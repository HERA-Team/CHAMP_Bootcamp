{
 "cells": [
  {
   "cell_type": "code",
   "execution_count": null,
   "metadata": {
    "ExecuteTime": {
     "end_time": "2020-06-04T19:10:59.418714Z",
     "start_time": "2020-06-04T19:10:57.018192Z"
    }
   },
   "outputs": [],
   "source": [
    "import numpy as np\n",
    "import matplotlib.pyplot as plt\n",
    "from pyuvdata import UVData\n",
    "%matplotlib notebook"
   ]
  },
  {
   "cell_type": "markdown",
   "metadata": {},
   "source": [
    "# HERA Data Analysis Part I: Reading, Manipulating, and Visualizing Visibility Data  <a class=\"tocSkip\">\n",
    "\n",
    "### *Workshop Leaders: Bobby Pascua, Josh Dillon, and James Aguirre*  <a class=\"tocSkip\">\n",
    "#### (Originally developed by Carina Cheng & Josh Dillon)  <a class=\"tocSkip\">"
   ]
  },
  {
   "cell_type": "markdown",
   "metadata": {},
   "source": [
    "# Reading Files and Metadata"
   ]
  },
  {
   "cell_type": "markdown",
   "metadata": {},
   "source": [
    "In this section, we'll go over how to read HERA data and some basic features of the `UVData` class that we will load the data into. For a detailed reference, you should browse [the pyuvdata documentation](https://pyuvdata.readthedocs.io/en/latest/). The examples covered here will use data from a small file prepared by Josh Dillon: `zen.2458098.40887.HH.calibrated_downselected.uvh5`."
   ]
  },
  {
   "cell_type": "code",
   "execution_count": null,
   "metadata": {
    "ExecuteTime": {
     "end_time": "2020-06-04T19:11:03.970101Z",
     "start_time": "2020-06-04T19:11:03.369196Z"
    }
   },
   "outputs": [],
   "source": [
    "sample_file = \"zen.2458098.40887.HH.calibrated_downselected.uvh5\"\n",
    "uvdata = UVData()  # Initialize the UVData object\n",
    "uvdata.read(sample_file)  # Then read in the data"
   ]
  },
  {
   "cell_type": "markdown",
   "metadata": {},
   "source": [
    "This function loads in the metadata of the the data file when it's constructed. So for example, we can answer some questions:\n",
    "\n",
    "* How many antennas are in the array and what are their antenna numbers? \n",
    "\n",
    "* How many frequency channels are there in the array. What range do they cover in MHz?\n",
    "\n",
    "* How many time integrations are there in the file?\n"
   ]
  },
  {
   "cell_type": "code",
   "execution_count": null,
   "metadata": {
    "ExecuteTime": {
     "end_time": "2020-06-04T19:11:05.418265Z",
     "start_time": "2020-06-04T19:11:05.411593Z"
    }
   },
   "outputs": [],
   "source": [
    "n_ants = uvdata.Nants_data  # Number of antennas with data associated with them.\n",
    "n_ants_tot = uvdata.Nants_telescope  # Number of antennas in the array.\n",
    "all_ants = uvdata.antenna_numbers\n",
    "data_ants = set(uvdata.ant_1_array).union(uvdata.ant_2_array)\n",
    "\n",
    "print(f\"There are {n_ants_tot} antennas in the array, and they are:\\n{all_ants}\\n\")\n",
    "print(f\"There are {n_ants} antennas with data, and they are:\\n{data_ants}\\n\")\n",
    "\n",
    "freqs_MHz = np.unique(uvdata.freq_array) / 1e6\n",
    "fmin = freqs_MHz.min()\n",
    "fmax = freqs_MHz.max()\n",
    "print(f\"There are {uvdata.Nfreqs} frequencies, covering {fmin:.2f} MHz to {fmax:.2f} MHz.\\n\")\n",
    "print(f\"There are {uvdata.Ntimes} integrations.\")"
   ]
  },
  {
   "cell_type": "markdown",
   "metadata": {},
   "source": [
    "## Exercise 1 \n",
    "\n",
    "Now it's your turn. Try to answer these basic questions about the data:\n",
    "\n",
    "1. What is the width of each frequency channel in MHz?\n",
    "\n",
    "2. What range of Julian Dates do they span?\n",
    "\n",
    "3. What is the lengh of each time integration in seconds?\n",
    "\n",
    "4. What range of LSTs (local sidreal times) do the data span?\n",
    "\n",
    "5. How many baselines are in the file? How many should there be? Why don't they agree? Hint: check the `history` attribute of the `UVData` object."
   ]
  },
  {
   "cell_type": "code",
   "execution_count": null,
   "metadata": {
    "ExecuteTime": {
     "end_time": "2020-06-04T19:11:12.059673Z",
     "start_time": "2020-06-04T19:11:12.057184Z"
    }
   },
   "outputs": [],
   "source": [
    "# your answers here (hint: look at the attributes of the UVData object)\n"
   ]
  },
  {
   "cell_type": "markdown",
   "metadata": {},
   "source": [
    "## Exercise 2 "
   ]
  },
  {
   "cell_type": "markdown",
   "metadata": {},
   "source": [
    "Now let's plot our array to look at where the antennas are. (Hint, see what the `get_ENU_antpos` method does.)"
   ]
  },
  {
   "cell_type": "code",
   "execution_count": null,
   "metadata": {
    "ExecuteTime": {
     "end_time": "2020-06-04T19:11:36.899209Z",
     "start_time": "2020-06-04T19:11:36.771496Z"
    },
    "scrolled": false
   },
   "outputs": [],
   "source": [
    "# Fill in the gaps in the code below\n",
    "\n",
    "# Get the antenna positions and numbers\n",
    "\n",
    "plt.figure()\n",
    "plt.scatter(, , marker='.', color='k', s=3000)  # plot the antenna positions with black circles\n",
    "for i, ant in enumerate():  # loop over antennas\n",
    "    plt.text(, , , color='w', va='center', ha='center')  # label antenna numbers\n",
    "plt.xlabel()\n",
    "plt.ylabel()\n",
    "plt.axis('equal');"
   ]
  },
  {
   "cell_type": "markdown",
   "metadata": {},
   "source": [
    "# Retrieving Data and Flags"
   ]
  },
  {
   "cell_type": "markdown",
   "metadata": {},
   "source": [
    "`UVData` objects provide a simple interface for obtaining data and flags. In order to retrieve data and/or flags, we need to know the baselines and polarizations for which data is available. We can investigate this using the `get_antpairpols` method:"
   ]
  },
  {
   "cell_type": "code",
   "execution_count": null,
   "metadata": {
    "ExecuteTime": {
     "end_time": "2020-06-04T19:13:32.275531Z",
     "start_time": "2020-06-04T19:13:32.209250Z"
    }
   },
   "outputs": [],
   "source": [
    "print(uvdata.get_antpairpols())"
   ]
  },
  {
   "cell_type": "code",
   "execution_count": null,
   "metadata": {
    "ExecuteTime": {
     "end_time": "2020-06-04T19:13:35.089890Z",
     "start_time": "2020-06-04T19:13:35.084135Z"
    }
   },
   "outputs": [],
   "source": [
    "# Let's get the flags and data for a long East-West baseline\n",
    "antpairpol = (65, 71, 'xx')\n",
    "data = uvdata.get_data(antpairpol)\n",
    "flags = uvdata.get_flags(antpairpol)"
   ]
  },
  {
   "cell_type": "markdown",
   "metadata": {},
   "source": [
    "Let's take a moment to inspect the data and flags. The data and flags are stored as `numpy` arrays. What are the array shapes and what data types are used? What do you think these correspond to?"
   ]
  },
  {
   "cell_type": "code",
   "execution_count": null,
   "metadata": {},
   "outputs": [],
   "source": [
    "# Your code here\n"
   ]
  },
  {
   "cell_type": "markdown",
   "metadata": {},
   "source": [
    "something about visualizing data after applying flags"
   ]
  },
  {
   "cell_type": "code",
   "execution_count": null,
   "metadata": {},
   "outputs": [],
   "source": [
    "# We'll be applying flags to different data products frequently,\n",
    "# so let's make a helper function to do it\n",
    "def apply_flags(data, flags):\n",
    "    return np.where(flags, np.nan+1j*np.nan, data)"
   ]
  },
  {
   "cell_type": "code",
   "execution_count": null,
   "metadata": {},
   "outputs": [],
   "source": [
    "modified_data = apply_flags(data, flags)"
   ]
  },
  {
   "cell_type": "code",
   "execution_count": null,
   "metadata": {
    "ExecuteTime": {
     "end_time": "2020-06-04T19:13:37.197422Z",
     "start_time": "2020-06-04T19:13:37.168617Z"
    }
   },
   "outputs": [],
   "source": [
    "integration = 30 # this is the integration index, 30 out of 60 total integrations\n",
    "plt.figure()\n",
    "plt.plot(freqs_MHz, modified_data[integration].real, 'b-', label='Real part')\n",
    "plt.plot(freqs_MHz, modified_data[integration].imag, 'r-', label='Imag part')\n",
    "plt.xlabel('Frequency (MHz)')\n",
    "plt.ylabel('Visibility (Jy)')\n",
    "plt.grid(); plt.legend();"
   ]
  },
  {
   "cell_type": "markdown",
   "metadata": {},
   "source": [
    "## Exercise 3\n",
    "Plot visibilities, with bad data removed, as a function of LST for a few different frequency channels. Label each channel's frequency and include a legend."
   ]
  },
  {
   "cell_type": "code",
   "execution_count": null,
   "metadata": {
    "ExecuteTime": {
     "end_time": "2020-06-04T19:13:44.768756Z",
     "start_time": "2020-06-04T19:13:44.765700Z"
    }
   },
   "outputs": [],
   "source": [
    "chans = [100,300,750]\n",
    "\n",
    "# your answer here"
   ]
  },
  {
   "cell_type": "markdown",
   "metadata": {},
   "source": [
    "# Waterfall Plots"
   ]
  },
  {
   "cell_type": "markdown",
   "metadata": {},
   "source": [
    "## Exercise 4\n",
    "\n",
    "(in breakout groups)\n",
    "\n",
    "Recall that\n",
    "\n",
    "$\\LARGE{V_{ij}(\\nu) = \\int B_{ij}(\\mathbf{\\hat{r}}, \\nu) I(\\mathbf{\\hat{r}},\\nu) e^{-(2 \\pi i \\nu / c)(\\mathbf{b_{ij}}\\cdot \\mathbf{\\hat{r}})}} d\\Omega$.\n",
    "\n",
    "\n",
    "For simplicity, imagine that we have a two-element interferometer sitting on the equator of the earth with the two antennas separated by a vector that is perfectly aligned with the east-west direction. Make a sketch of what you think the phase of a visibility should look like, as a function of time if the sky contains a single source is located at zero-declination (is transiting through the zenith of the celestial sphere). \n",
    "\n",
    "Make another sketch of how the phase should evolve if the pair of antennas are aligned perfectly in the north-south direction. \n",
    "\n",
    "How would you expect the phase evolution of a longe EW baseline to compare to the phase evolution of a short EW baseline?"
   ]
  },
  {
   "cell_type": "code",
   "execution_count": null,
   "metadata": {
    "ExecuteTime": {
     "end_time": "2020-06-04T18:59:37.466086Z",
     "start_time": "2020-06-04T18:59:37.458866Z"
    }
   },
   "outputs": [],
   "source": []
  },
  {
   "cell_type": "code",
   "execution_count": null,
   "metadata": {
    "ExecuteTime": {
     "end_time": "2020-06-04T18:59:37.472868Z",
     "start_time": "2020-06-04T18:59:37.467190Z"
    }
   },
   "outputs": [],
   "source": []
  },
  {
   "cell_type": "markdown",
   "metadata": {},
   "source": [
    "**Now Make a Waterfall**\n",
    "\n",
    "Another useful way of visualizing our data is to plot it as a waterfall plot. A waterfall plot is a two-dimensional plot of the visibility (the cross-correlated signal between a pair of antennas) as a function of time (y-axis) and frequency (x-axis). We can use the `plt.imshow` to plot the amplitude and phase of the same baseline as above. Note that the keyword `extent` takes in 4 arguments which define the plot axes extent in the order of (xmin, xmax, ymin, ymax), and we've massaged our axes to display frequencies in MHz and times in LST hours."
   ]
  },
  {
   "cell_type": "code",
   "execution_count": null,
   "metadata": {
    "ExecuteTime": {
     "end_time": "2020-06-04T19:14:40.865633Z",
     "start_time": "2020-06-04T19:14:40.267906Z"
    },
    "scrolled": false
   },
   "outputs": [],
   "source": [
    "# Let's use a logarithmic colormap for visualizing the visibility amplitude\n",
    "vmin = np.abs(data[~flags]).min()  # Get the smallest non-flagged visibility amplitude\n",
    "vmax = np.abs(data[~flags]).max()  # and the largest\n",
    "norm = plt.cm.colors.LogNorm(vmin=vmin, vmax=vmax)  # This will tell the plotter how to format the colorbar\n",
    "lsts_hr = lsts * 12 / np.pi\n",
    "\n",
    "# The extent of a plot is [left, right, bottom, top]\n",
    "# Remember that imshow has the vertical axis increasing downward!\n",
    "extent = [freqs_MHz[0], freqs_MHz[-1], lsts_hr[-1], lsts_hr[0]]\n",
    "\n",
    "# Plot absolute value of visibility\n",
    "plt.figure(figsize=(8,4))\n",
    "plt.subplot(121)  # Use 1 row and 2 columns of plots; select the left plot\n",
    "plt.imshow(np.abs(data), aspect='auto', norm=norm, interpolation='none', extent=extent)\n",
    "plt.colorbar(label='Visibility Amplitude (Jy)')\n",
    "plt.xlabel('Frequency (MHz)')\n",
    "plt.ylabel('LST (hours)')\n",
    "plt.title('Amplitude')\n",
    "\n",
    "# Plot phase of visibility\n",
    "plt.subplot(122)  # Now select the right plot\n",
    "plt.imshow(np.angle(data), aspect='auto', cmap='twilight', interpolation='none', extent=extent)\n",
    "plt.colorbar(label='Visibility Phase (Radians)')\n",
    "plt.xlabel('Frequency (MHz)')\n",
    "plt.ylabel('LST (hours)')\n",
    "plt.title('Phase')\n",
    "\n",
    "plt.tight_layout();"
   ]
  },
  {
   "cell_type": "markdown",
   "metadata": {},
   "source": [
    "Some features to note from the waterfall plots:\n",
    "* RFI\n",
    "* Band edges\n",
    "* Frequency and temporal structure\n",
    "\n",
    "Thankfully, someone has already done a bunch of work to figure out which data might be bad and flagged it. Here is what the flags look like:"
   ]
  },
  {
   "cell_type": "code",
   "execution_count": null,
   "metadata": {
    "ExecuteTime": {
     "end_time": "2020-06-04T19:14:47.917194Z",
     "start_time": "2020-06-04T19:14:47.798005Z"
    }
   },
   "outputs": [],
   "source": [
    "# Plot RFI Flags\n",
    "plt.figure(figsize=(8,4))\n",
    "plt.subplot(121)\n",
    "plt.imshow(flags.astype(float), aspect='auto', interpolation='none', extent=extent)\n",
    "plt.colorbar()\n",
    "plt.xlabel('Frequency (MHz)')\n",
    "plt.ylabel('LST (hours)')\n",
    "plt.title('Flags')\n",
    "\n",
    "# Plot phase of visibility\n",
    "plt.subplot(122)\n",
    "plt.imshow(np.angle(modified_data), aspect='auto', cmap='twilight', interpolation='none', extent=extent)\n",
    "plt.colorbar(label='Visibility Phase (Radians)')\n",
    "plt.xlabel('Frequency (MHz)')\n",
    "plt.ylabel('LST (hours)')\n",
    "plt.title('Flagged Phase')\n",
    "\n",
    "plt.tight_layout();"
   ]
  },
  {
   "cell_type": "markdown",
   "metadata": {},
   "source": [
    "## Exercise 5\n",
    "Exercise: Now try a short baseline and a long baseline of the same orientation. Make waterfall plots (in both amplitude and phase) for both. How do they differ?"
   ]
  },
  {
   "cell_type": "code",
   "execution_count": null,
   "metadata": {
    "ExecuteTime": {
     "end_time": "2020-06-04T19:15:34.265708Z",
     "start_time": "2020-06-04T19:15:34.160798Z"
    }
   },
   "outputs": [],
   "source": [
    "short_ew_bl = (37, 38, 'xx')\n",
    "long_ew_bl = (65, 71, 'xx')\n",
    "\n",
    "# your answer here\n",
    "plt.figure(figsize=(10,5))\n",
    "\n",
    "plt.subplot(221)\n",
    "\n",
    "\n",
    "plt.subplot(222)\n",
    "\n",
    "\n",
    "plt.subplot(223)\n",
    "\n",
    "\n",
    "plt.subplot(224)\n",
    "\n",
    "\n",
    "plt.tight_layout();"
   ]
  },
  {
   "cell_type": "markdown",
   "metadata": {},
   "source": [
    "## Exercise 6\n",
    "Now try comparing a N/S baseline to a E/W one of similar lengths do the waterfall plots differ for an E/W baseline vs. a N/S baseline? Does their difference make sense? "
   ]
  },
  {
   "cell_type": "code",
   "execution_count": null,
   "metadata": {
    "ExecuteTime": {
     "end_time": "2020-06-04T19:15:55.817628Z",
     "start_time": "2020-06-04T19:15:55.725147Z"
    }
   },
   "outputs": [],
   "source": [
    "ew_bl = (37, 38, 'xx')\n",
    "ns_bl = (51, 83, 'xx')\n",
    "\n",
    "# your answer here\n",
    "plt.figure(figsize=(10,8))\n",
    "\n",
    "plt.subplot(221)\n",
    "\n",
    "\n",
    "plt.subplot(222)\n",
    "\n",
    "\n",
    "plt.subplot(223)\n",
    "\n",
    "\n",
    "plt.subplot(224)\n",
    "\n",
    "\n",
    "plt.tight_layout();"
   ]
  },
  {
   "cell_type": "markdown",
   "metadata": {},
   "source": [
    "# The Delay Transform"
   ]
  },
  {
   "cell_type": "markdown",
   "metadata": {},
   "source": [
    "The delay transform is a clever technique we use to isolate bright foregrounds in our data (which we can then filter out). The delay transform is simply the Fourier transform of the visibility along frequency. \n"
   ]
  },
  {
   "cell_type": "markdown",
   "metadata": {},
   "source": [
    "## Exercise 7\n",
    "\n",
    "(breakout groups)\n",
    "\n",
    "At a fixed time, our data should have two contributions: smooth foregrounds (that occupy small delays) and noise (that occupies many delays). As a group, make a sketch of what you would expect the frequency-to-delay Fourier transform (the delay transform) of this data to look like a single time."
   ]
  },
  {
   "cell_type": "code",
   "execution_count": null,
   "metadata": {
    "ExecuteTime": {
     "end_time": "2020-06-04T18:59:38.806919Z",
     "start_time": "2020-06-04T18:59:38.800765Z"
    }
   },
   "outputs": [],
   "source": []
  },
  {
   "cell_type": "markdown",
   "metadata": {},
   "source": [
    "\n",
    "## Exercise 8\n",
    "\n",
    "Try implementing the delay transform using `np.fft.fft` by following the steps below."
   ]
  },
  {
   "cell_type": "code",
   "execution_count": null,
   "metadata": {
    "ExecuteTime": {
     "end_time": "2020-06-04T19:17:24.159677Z",
     "start_time": "2020-06-04T19:17:24.155151Z"
    }
   },
   "outputs": [],
   "source": [
    "bl = (51,83,'xx')\n",
    "vis = uvdata.get_data(bl)\n",
    "\n",
    "# 1) Fourier transform \"vis\" along the frequency axis (don't forget to fftshift after)\n",
    "vis_dt = # your answer here \n",
    "\n",
    "# 2) Find the frequency width of a channel in GHz\n",
    "freq_width = # your answer here\n",
    "\n",
    "#3) Convert frequencies to delays. Numpy's fftfreq function takes two arguments: \n",
    "#   the number of frequencies, and the frequeny width you calculated above\n",
    "delays = # your answer here\n",
    "\n",
    "# Setup the normalization and extent for the waterfall\n",
    "vmin = np.abs(vis_dt).min()\n",
    "vmax = np.abs(vis_dt).max()\n",
    "norm = plt.cm.colors.LogNorm(vmin, vmax)\n",
    "new_extent = (delays[0], delays[-1], lsts_hr[-1], lsts_hr[0])\n",
    "\n",
    "plt.figure()\n",
    "plt.imshow(np.abs(vis_dt), aspect='auto', interpolation='none', norm=norm, extent=new_extent)\n",
    "plt.colorbar(label='Visibility Amplitude (Jy)')\n",
    "plt.xlabel('Delay (ns)')\n",
    "plt.ylabel('LST (hours)')\n",
    "plt.title('Delay Transform');"
   ]
  },
  {
   "cell_type": "markdown",
   "metadata": {},
   "source": [
    "## Exercise 9\n",
    "\n",
    "\n",
    "Does this waterfall match your expectations? \n",
    "\n",
    "The delay transform looks a lot like a sinusoid. \n",
    "\n",
    "What is the Fourier tranform of a sinusoid? \n",
    "\n",
    "Can you identify this source of this sinusoid in the time-frequency waterfall of the data? Hint: use a linear colorscale ranging from about 0 to 1000. \n",
    "\n",
    "What do you think causes these features?"
   ]
  },
  {
   "cell_type": "code",
   "execution_count": null,
   "metadata": {
    "ExecuteTime": {
     "end_time": "2020-06-04T19:21:54.427995Z",
     "start_time": "2020-06-04T19:21:54.425769Z"
    }
   },
   "outputs": [],
   "source": [
    "# your answer here\n"
   ]
  },
  {
   "cell_type": "markdown",
   "metadata": {},
   "source": [
    "**Solution:**\n",
    "\n",
    "Recall that the Fourier transform of a sinusoid is a delta-function. Thus, if we look at the time-**frequency** waterfall, we should expect to see some delta-function like features. Indeed, we do see a number of such spiky prominences in the above plot. \n",
    "\n",
    "These spikes are narrowband Radio Frequency Interference (RFI)&mdash;things like FM radio stations and satellite communications signals."
   ]
  },
  {
   "cell_type": "markdown",
   "metadata": {},
   "source": [
    "## Exercise 10\n",
    "\n",
    "If we set the values of the channels where there is RFI to zero, what do you think the delay-transformed data would look like?"
   ]
  },
  {
   "cell_type": "code",
   "execution_count": null,
   "metadata": {
    "ExecuteTime": {
     "end_time": "2020-06-04T18:59:38.893207Z",
     "start_time": "2020-06-04T18:59:38.883878Z"
    }
   },
   "outputs": [],
   "source": []
  },
  {
   "cell_type": "markdown",
   "metadata": {},
   "source": [
    "## Exercise 11\n",
    "\n",
    "Now plot the delay transform again, but this time set the flagged channels to 0 before taking the delay transform."
   ]
  },
  {
   "cell_type": "code",
   "execution_count": null,
   "metadata": {
    "ExecuteTime": {
     "end_time": "2020-06-04T19:22:18.199492Z",
     "start_time": "2020-06-04T19:22:18.197040Z"
    }
   },
   "outputs": [],
   "source": [
    "# your answer here\n"
   ]
  },
  {
   "cell_type": "markdown",
   "metadata": {},
   "source": [
    "That's better. So what do we see here? All the bright stuff at low delay values correspond to bright foreground sources that are smooth in frequency (and therefore \"peaky\" in delay). This is nice for us because we've isolated the foregrounds and we can filter them out easily in this space.\n",
    "\n",
    "Let's think about what \"delay\" means physically. A delay can be thought of as the time difference between when a lightwave hits one antenna and when it hits the second antenna. In other words, there is a time lag between light hitting each antenna depending on the direction it comes from and the orientation of the baseline.\n",
    "\n",
    "Where would the light have to be coming from for the time delay to be zero? Where would it need to be coming from to produce a maximum delay (hint: we call this the horizon limit)?"
   ]
  },
  {
   "cell_type": "markdown",
   "metadata": {},
   "source": [
    "## Exercise 12\n",
    "For the baseline we picked earlier, calculate the theoretical maximum delay (in nanoseconds), using $t = d/c$, where $t$ is the time delay, $d$ is the baseline distance, and $c$ is the speed of light. You can calculate the baseline distance using the saved `antpos` and `ants` variables from earlier, or approximate it using the antenna layout plot."
   ]
  },
  {
   "cell_type": "code",
   "execution_count": null,
   "metadata": {
    "ExecuteTime": {
     "end_time": "2020-06-04T19:22:53.463924Z",
     "start_time": "2020-06-04T19:22:53.461199Z"
    }
   },
   "outputs": [],
   "source": [
    "# your answer here\n"
   ]
  },
  {
   "cell_type": "markdown",
   "metadata": {},
   "source": [
    "A cool trick for a faster calculation is to convert your distance $d$ to feet. That number is also approximately the time delay in nanoseconds! \n",
    "\n",
    "Also note that the foregrounds in our delay-transform plot spread out past this horizon limit. This is due to all sorts of effects, but the biggest one is the RFI gaps. However, we have algorithms that can deal with these in a smarter way than just setting them to 0. "
   ]
  },
  {
   "cell_type": "markdown",
   "metadata": {},
   "source": [
    "# Delay-Filtering&mdash;Interpolating the RFI gaps"
   ]
  },
  {
   "cell_type": "markdown",
   "metadata": {},
   "source": [
    "While our waterfall in exercise 11 is certainly an improvement over leaving the RFI spikes in, the ringing structures that are caused by RFI gaps are only roughly a factor of 10-100 times lower than the foreground amplitude and cover all delays. We can think of these features as being an extra-nasty window function that corresponds to a top-hat window but now with gaps in it. This window function convolves our foregrounds and smears them to all delays. \n",
    "\n",
    "The 21-cm signal is ~$10^4$ smaller than the foregrounds, so the 1-10% flagging side-lobes are still a huge problem. \n",
    "\n",
    "One way to fix this is to use a delay <b>CLEAN</b>ing. Delay <b>CLEAN</b> is an algorithm that fits the data to complex sinusoids (with the same wavelengths as the wavelengths that we expect the foregrounds to have) and uses these sinusoids to interpolate foreground values in the flagged RFI channels. By performing this in-painting, we can eliminate the flagging side-lobes from exercise 11. \n",
    "\n",
    "\n",
    "We call the collection of sinusoids used to interpolate our data **CLEAN components** or our **CLEAN model**. Data that has been interpolated with these sinusoids is **CLEANed data**. \n",
    "\n",
    "Since we don't actually care about the foregrounds, we can also just subtract our fitted CLEAN components from the data. \n",
    "\n",
    "Here is how you can apply the delay-filtering code used by HERA to your data. "
   ]
  },
  {
   "cell_type": "code",
   "execution_count": null,
   "metadata": {
    "ExecuteTime": {
     "end_time": "2020-06-04T19:22:54.859478Z",
     "start_time": "2020-06-04T19:22:54.847563Z"
    }
   },
   "outputs": [],
   "source": [
    "from IPython.display import Image\n",
    "Image('smooth_power_spectrum_gaps_clean.png')"
   ]
  },
  {
   "cell_type": "code",
   "execution_count": null,
   "metadata": {
    "ExecuteTime": {
     "end_time": "2020-06-04T19:24:24.201435Z",
     "start_time": "2020-06-04T19:24:00.221451Z"
    }
   },
   "outputs": [],
   "source": [
    "from hera_cal import delay_filter\n",
    "from hera_cal.io import HERAData\n",
    "import matplotlib\n",
    "hd = HERAData(sample_file)\n",
    "data, flags, nsamples = hd.read()\n",
    "\n",
    "bl = (51,83,'xx')\n",
    "df = delay_filter.DelayFilter(hd) # establish delay filter object\n",
    "df.run_filter(to_filter=[bl]) # filter the specific key we want (otherwise it takes a long time to do all keys)\n",
    "\n",
    "clean_data = df.clean_data[bl] # filtered visibility (i.e. the cleaned visibility)\n",
    "clean = df.clean_model[bl] # low delay modes we don't want (i.e. the stuff that gets filtered out)\n",
    "resid = df.clean_resid[bl] # low delay modes we don't want (i.e. the stuff that gets filtered out)\n",
    "\n",
    "# Plot\n",
    "plt.figure(figsize=(10,4))\n",
    "plt.subplot(141)\n",
    "plt.imshow(np.abs(data[bl] / ~flags[bl]), aspect='auto', norm=matplotlib.colors.LogNorm(1e0,1e2), interpolation='none',\n",
    "          extent=(hd.freqs[0]/1e6, hd.freqs[-1]/1e6, \n",
    "                  hd.lsts[-1]*12/np.pi, hd.lsts[0]*12/np.pi))\n",
    "plt.colorbar(label='Visibility Amplitude (Jy)')\n",
    "plt.xlabel('Frequency (MHz)')\n",
    "plt.ylabel('LST (hours)')\n",
    "plt.title('Original Visibility')\n",
    "\n",
    "plt.subplot(142)\n",
    "plt.imshow(np.abs(clean_data), aspect='auto', norm=matplotlib.colors.LogNorm(1e0,1e2), interpolation='none',\n",
    "          extent=(hd.freqs[0]/1e6, hd.freqs[-1]/1e6, \n",
    "                  hd.lsts[-1]*12/np.pi, hd.lsts[0]*12/np.pi))\n",
    "plt.colorbar(label='Visibility Amplitude (Jy)')\n",
    "plt.xlabel('Frequency (MHz)')\n",
    "plt.ylabel('LST (hours)')\n",
    "plt.title('Cleaned Visibility')\n",
    "\n",
    "plt.subplot(143)\n",
    "plt.imshow(np.abs(clean), aspect='auto', norm=matplotlib.colors.LogNorm(1e0,1e2), interpolation='none',\n",
    "          extent=(hd.freqs[0]/1e6, hd.freqs[-1]/1e6, \n",
    "                  hd.lsts[-1]*12/np.pi, hd.lsts[0]*12/np.pi))\n",
    "plt.colorbar(label='Visibility Phase (Radians)')\n",
    "plt.xlabel('Frequency (MHz)')\n",
    "plt.ylabel('LST (hours)')\n",
    "plt.title('CLEAN Components')\n",
    "\n",
    "\n",
    "plt.subplot(144)\n",
    "plt.imshow(np.abs(resid), aspect='auto', norm=matplotlib.colors.LogNorm(1e0,1e2), interpolation='none',\n",
    "          extent=(hd.freqs[0]/1e6, hd.freqs[-1]/1e6, \n",
    "                  hd.lsts[-1]*12/np.pi, hd.lsts[0]*12/np.pi))\n",
    "plt.colorbar(label='Visibility Phase (Radians)')\n",
    "plt.xlabel('Frequency (MHz)')\n",
    "plt.ylabel('LST (hours)')\n",
    "plt.title('CLEAN Residual')\n",
    "\n",
    "plt.tight_layout();"
   ]
  },
  {
   "cell_type": "markdown",
   "metadata": {},
   "source": [
    "Comparing the left and middle left plots, we see that we've interpolated over the RFI gaps with smooth CLEAN components (middle right plot). Subtracting the CLEAN components from the original data reduces the amplitude of our visibility by a couple orders of magnitude (right plot)! We also see that some of the foreground structure we see in the left plot has been removed, as the right plot looks more noise-like. Delay-filtering is a powerful tool for HERA; afterall, we are trying to find a tiny signal (the 21cm EoR signal) buried underneath a lot of stuff we don't care about!"
   ]
  },
  {
   "cell_type": "markdown",
   "metadata": {},
   "source": [
    "## Exercise 13\n",
    "Try running the delay filter with `to_filter=[bl]` and `min_dly=6000` to use the CLEAN part of the filter without the \"filtering\" part. Now make a waterfall of `df.clean_data[bl]` in delay vs. LST. How does this compare to what you did above?"
   ]
  },
  {
   "cell_type": "code",
   "execution_count": null,
   "metadata": {
    "ExecuteTime": {
     "end_time": "2020-06-04T19:24:52.868949Z",
     "start_time": "2020-06-04T19:24:52.866791Z"
    },
    "scrolled": false
   },
   "outputs": [],
   "source": [
    "bl = (65,71,'xx')\n",
    "\n",
    "# your answer here\n"
   ]
  },
  {
   "cell_type": "code",
   "execution_count": null,
   "metadata": {},
   "outputs": [],
   "source": []
  }
 ],
 "metadata": {
  "kernelspec": {
   "display_name": "Python 3 (ipykernel)",
   "language": "python",
   "name": "python3"
  },
  "language_info": {
   "codemirror_mode": {
    "name": "ipython",
    "version": 3
   },
   "file_extension": ".py",
   "mimetype": "text/x-python",
   "name": "python",
   "nbconvert_exporter": "python",
   "pygments_lexer": "ipython3",
   "version": "3.10.4"
  },
  "toc": {
   "base_numbering": 1,
   "nav_menu": {},
   "number_sections": true,
   "sideBar": true,
   "skip_h1_title": false,
   "title_cell": "Table of Contents",
   "title_sidebar": "Contents",
   "toc_cell": false,
   "toc_position": {
    "height": "calc(100% - 180px)",
    "left": "10px",
    "top": "150px",
    "width": "348.188px"
   },
   "toc_section_display": true,
   "toc_window_display": false
  }
 },
 "nbformat": 4,
 "nbformat_minor": 2
}
