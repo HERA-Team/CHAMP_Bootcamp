{
 "cells": [
  {
   "cell_type": "markdown",
   "metadata": {},
   "source": [
    "# Follow your signal through the telescope!"
   ]
  },
  {
   "cell_type": "code",
   "execution_count": null,
   "metadata": {},
   "outputs": [],
   "source": [
    "import matplotlib.pyplot as plt \n",
    "import numpy as np\n",
    "import scipy.signal\n",
    "from IPython.display import Image\n",
    "from matplotlib.animation import FuncAnimation\n",
    "from matplotlib.gridspec import GridSpec\n",
    "from ipywidgets import interact, FloatSlider, Layout"
   ]
  },
  {
   "cell_type": "markdown",
   "metadata": {},
   "source": [
    "## The incoming signal"
   ]
  },
  {
   "cell_type": "markdown",
   "metadata": {},
   "source": [
    "Let's say the incoming signal is made up of 3 fourier components- one astronomical, one out of band man-made signal, and one in band man-made signal. We're trying to recover the real astronomical signal from this. "
   ]
  },
  {
   "cell_type": "code",
   "execution_count": null,
   "metadata": {},
   "outputs": [],
   "source": [
    "Image(\"Downloads/birb.png\", width=500, height=500)"
   ]
  },
  {
   "cell_type": "code",
   "execution_count": null,
   "metadata": {},
   "outputs": [],
   "source": [
    "time = np.arange(0, 10.24, 0.001)\n",
    "amplitude2 = 3*np.sin(15*time)\n",
    "amplitude3 = 7*np.cos(500*time)\n",
    "amplitude1 = scipy.signal.chirp(time, f0=10, f1=5, t1=1, method='linear')\n",
    "\n",
    "plt.plot(time, amplitude3, label = \"Out of band RFI\")\n",
    "plt.plot(time, amplitude1, label = \"Chirp\")\n",
    "plt.plot(time, amplitude2, label = \"In band RFI\")\n",
    "\n",
    "\n",
    "plt.title('Sky Components')\n",
    "plt.xlabel('Time')\n",
    "plt.ylabel('Amplitude')\n",
    "plt.legend()\n",
    "plt.grid(True, which='both')\n",
    "plt.axhline(y=0, color='k')\n",
    "plt.xlim(0,1)\n",
    "plt.show()"
   ]
  },
  {
   "cell_type": "markdown",
   "metadata": {},
   "source": [
    "What does this signal actually look like?"
   ]
  },
  {
   "cell_type": "code",
   "execution_count": null,
   "metadata": {},
   "outputs": [],
   "source": [
    "sky = amplitude1 + amplitude2 + amplitude3\n",
    "plt.plot(time, sky, label = \"Sky\")\n",
    "plt.title('Signal')\n",
    "plt.xlabel('Time')\n",
    "plt.ylabel('Amplitude')\n",
    "plt.legend()\n",
    "plt.grid(True, which='both')\n",
    "plt.axhline(y=0, color='k')\n",
    "plt.show()"
   ]
  },
  {
   "cell_type": "code",
   "execution_count": null,
   "metadata": {},
   "outputs": [],
   "source": [
    "plt.plot(np.fft.fft(sky))\n",
    "plt.xlim(0,1000)\n",
    "plt.xlabel('Channel #')\n",
    "plt.title('FFT of total Sky signal')\n",
    "plt.ylabel('Arbitrary Units')"
   ]
  },
  {
   "cell_type": "code",
   "execution_count": null,
   "metadata": {},
   "outputs": [],
   "source": [
    "chirpfft = np.fft.fft(amplitude1)\n",
    "plt.plot(np.fft.fft(amplitude1))\n",
    "plt.xlim(0,500)\n",
    "plt.xlabel('Channel #')\n",
    "plt.title('FFT of Chirp signal')\n",
    "plt.ylabel('Arbitrary Units')"
   ]
  },
  {
   "cell_type": "markdown",
   "metadata": {},
   "source": [
    "## Antenna and Beam "
   ]
  },
  {
   "cell_type": "markdown",
   "metadata": {},
   "source": [
    " Let's say your Chirp is directly above your telescope and the RFI is coming in at an angle. Add a large multiplicative gain to the chirp signal and a smaller gain to your in band RFI. "
   ]
  },
  {
   "cell_type": "code",
   "execution_count": null,
   "metadata": {},
   "outputs": [],
   "source": [
    "Image(\"Downloads/Untitled_Artwork 22.png\", width=500, height=500)"
   ]
  },
  {
   "cell_type": "code",
   "execution_count": null,
   "metadata": {},
   "outputs": [],
   "source": [
    "gainlarge = 5\n",
    "gainsmall = 2\n",
    "voltages = gainlarge*amplitude1 + gainsmall*amplitude2 + amplitude3\n",
    "plt.plot(time, voltages, label = \"Sky\")\n",
    "plt.title('Signal modified by beam')\n",
    "plt.xlabel('Time')\n",
    "plt.ylabel('Amplitude')\n",
    "plt.legend()\n",
    "plt.grid(True, which='both')\n",
    "plt.axhline(y=0, color='k')\n",
    "plt.show()"
   ]
  },
  {
   "cell_type": "markdown",
   "metadata": {},
   "source": [
    "Now let's say our out of band RFI gets rejected by the antenna shape. Apply a multiplicative supression to the out of band rfi. "
   ]
  },
  {
   "cell_type": "code",
   "execution_count": null,
   "metadata": {},
   "outputs": [],
   "source": [
    "gainlarge = 5\n",
    "gainsmall = 2\n",
    "supression = .5\n",
    "amplitude1 = gainlarge*amplitude1 \n",
    "amplitude2 = gainsmall*amplitude2 \n",
    "amplitude3 = supression*amplitude3\n",
    "voltages = amplitude1 + amplitude2 + amplitude3\n",
    "plt.plot(time, voltages, label = \"Sky\")\n",
    "plt.title('Signal modified by beam')\n",
    "plt.xlabel('Time')\n",
    "plt.ylabel('Amplitude')\n",
    "plt.legend()\n",
    "plt.grid(True, which='both')\n",
    "plt.axhline(y=0, color='k')\n",
    "plt.show()"
   ]
  },
  {
   "cell_type": "markdown",
   "metadata": {},
   "source": [
    "How does this change your signal?"
   ]
  },
  {
   "cell_type": "code",
   "execution_count": null,
   "metadata": {},
   "outputs": [],
   "source": [
    "plt.plot(np.fft.fft(voltages))\n",
    "plt.xlabel('Channel #')\n",
    "plt.title('FFT of Signal modified by beam')\n",
    "plt.ylabel('Arbitrary Units')\n",
    "plt.xlim(0,1000)"
   ]
  },
  {
   "cell_type": "markdown",
   "metadata": {},
   "source": [
    "## Analog"
   ]
  },
  {
   "cell_type": "markdown",
   "metadata": {},
   "source": [
    "### a. Amplification\n"
   ]
  },
  {
   "cell_type": "markdown",
   "metadata": {},
   "source": [
    "We want a strong signal from the sky to be able to have enough sensitivity to detect changes in the signal. We apply some gain using an amplifier. First, we'll add some gaussian noise from our electronics, as this will also be amplified by any gain stages we have."
   ]
  },
  {
   "cell_type": "code",
   "execution_count": null,
   "metadata": {},
   "outputs": [],
   "source": [
    "rf = voltages + 3*np.random.normal(0,1,10240)\n",
    "plt.plot(time, rf, label = \"Sky\")\n",
    "plt.title('Signal Amplified')\n",
    "plt.xlabel('Time')\n",
    "plt.ylabel('Amplitude')\n",
    "plt.legend()\n",
    "plt.grid(True, which='both')\n",
    "plt.axhline(y=0, color='k')\n",
    "plt.show()"
   ]
  },
  {
   "cell_type": "markdown",
   "metadata": {},
   "source": [
    "We know we have some signals out of band that might interfere with our ability to detect our signal. Based on prior knowledge, we know our astronomical signal is at a specific frequency, so we design a filter to reject the out of band signals. This filter will suppress everything outside of the red lines in the FFT. For brevity of code, we assume it eliminates out of band signals entirely. A real analog filter will have some Db level of supression."
   ]
  },
  {
   "cell_type": "code",
   "execution_count": null,
   "metadata": {},
   "outputs": [],
   "source": [
    "plt.plot(np.fft.fft(rf))\n",
    "#plt.plot(filter)\n",
    "plt.xlim(0,1000)\n",
    "plt.axvline(5, c='r')\n",
    "plt.axvline(500, c='r')\n",
    "plt.axvline()\n",
    "plt.xlabel('Channel #')\n",
    "plt.title('FFT of total Sky signal')\n",
    "plt.ylabel('Arbitrary Units')"
   ]
  },
  {
   "cell_type": "code",
   "execution_count": null,
   "metadata": {},
   "outputs": [],
   "source": [
    "filteredfft = np.fft.fft(rf)\n",
    "for i in range(len(filteredfft)):\n",
    "    if i > 500 or i < 5:\n",
    "        filteredfft[i] = 0   \n",
    "plt.plot(filteredfft)\n",
    "plt.xlim(0,1000)\n",
    "plt.xlabel('Channel #')\n",
    "plt.title('FFT of total Sky signal')\n",
    "plt.ylabel('Arbitrary Units')"
   ]
  },
  {
   "cell_type": "code",
   "execution_count": null,
   "metadata": {},
   "outputs": [],
   "source": [
    "filteredrf = np.fft.ifft(filteredfft)\n",
    "plt.plot(time, filteredrf, label = \"filtered signal\")\n",
    "plt.title('Signal Filtered')\n",
    "plt.xlabel('Time')\n",
    "plt.ylabel('Amplitude')\n",
    "plt.legend()\n",
    "plt.grid(True, which='both')\n",
    "plt.axhline(y=0, color='k')\n",
    "plt.show()"
   ]
  },
  {
   "cell_type": "markdown",
   "metadata": {},
   "source": [
    "## Digital"
   ]
  },
  {
   "cell_type": "markdown",
   "metadata": {},
   "source": [
    "### a. ADCs"
   ]
  },
  {
   "cell_type": "markdown",
   "metadata": {},
   "source": [
    "We need to digitize our signal. Let's say we have an 8 bit ADC sampling at 10 samples/second, with an input voltage range of +/- 15 volts. Calculate the voltage sensitivity. Will we be able to resolve our chirp?"
   ]
  },
  {
   "cell_type": "code",
   "execution_count": null,
   "metadata": {},
   "outputs": [],
   "source": [
    "plt.plot(time, filteredrf)\n",
    "plt.title('Signal')\n",
    "plt.xlabel('Time')\n",
    "plt.ylabel('Amplitude')\n",
    "plt.grid(True, which='both')\n",
    "plt.axhline(y=0, color='k')\n",
    "plt.xlim(0,1)\n",
    "plt.show()"
   ]
  },
  {
   "cell_type": "code",
   "execution_count": null,
   "metadata": {},
   "outputs": [],
   "source": [
    "samples = filteredrf[::10]\n",
    "x= np.arange(0,1024,1)\n",
    "plt.stem(x, samples)\n",
    "plt.title('Signal Sampled')\n",
    "plt.xlabel('Samples')\n",
    "plt.ylabel('Amplitude')\n",
    "plt.grid(True, which='both')\n",
    "plt.axhline(y=0, color='k')\n",
    "plt.xlim(0,100)\n",
    "plt.show()"
   ]
  },
  {
   "cell_type": "code",
   "execution_count": null,
   "metadata": {},
   "outputs": [],
   "source": [
    "vperdiv = 30/256\n",
    "adclevels = []\n",
    "for i in range(1,256):\n",
    "    adclevels.append(-15+i*vperdiv)\n",
    "\n",
    "def find_nearest_min(array, value):\n",
    "    array = np.asarray(array)\n",
    "    idx = (np.abs(array - value)).argmin()\n",
    "    if (np.abs((array[idx]-value)) - np.abs(((array[idx]-value)))) < 0:\n",
    "        return idx\n",
    "    else:\n",
    "        return idx - 1\n",
    "\n",
    "digital_stream = []\n",
    "for sample in samples:\n",
    "    digital = find_nearest_min(adclevels, sample)\n",
    "    digital_stream.append(digital-128)\n",
    "\n",
    "plt.step(x, digital_stream)\n",
    "plt.xlim(0,100)\n",
    "plt.xlabel('Samples')\n",
    "plt.title('Digitized signal')\n",
    "plt.grid(True, which='both')\n",
    "plt.axhline(y=0, color='k')\n",
    "plt.ylabel('Digital Counts')"
   ]
  },
  {
   "cell_type": "markdown",
   "metadata": {},
   "source": [
    "### b. PFB"
   ]
  },
  {
   "cell_type": "markdown",
   "metadata": {},
   "source": [
    "Skipping PFB for brevity, but take a look at Danny Price's PFB notebook if interested https://github.com/telegraphic/pfb_introduction/blob/master/pfb_introduction.ipynb"
   ]
  },
  {
   "cell_type": "markdown",
   "metadata": {},
   "source": [
    "### c. FFT "
   ]
  },
  {
   "cell_type": "code",
   "execution_count": null,
   "metadata": {},
   "outputs": [],
   "source": [
    "def fft(x_p, P, axis=1):\n",
    "    return np.fft.rfft(x_p, P)\n",
    "\n",
    "plt.plot(fft(digital_stream, len(digital_stream)))\n",
    "plt.xlabel('Channel #')\n",
    "plt.title('FFT of Digital Stream')\n",
    "plt.ylabel('Arbitrary Units')\n",
    "plt.xlim(0,500)"
   ]
  },
  {
   "cell_type": "markdown",
   "metadata": {},
   "source": [
    "## Computing"
   ]
  },
  {
   "cell_type": "markdown",
   "metadata": {},
   "source": [
    "### Averaging"
   ]
  },
  {
   "cell_type": "code",
   "execution_count": null,
   "metadata": {},
   "outputs": [],
   "source": [
    "waterfall = np.zeros((100,1024))\n",
    "for i in range(0,100):\n",
    "    filtered = amplitude1 + amplitude2 + np.random.normal(0,1,10240)\n",
    "    fft = np.fft.fft(filtered)\n",
    "    for j in range(0,1024):\n",
    "        waterfall[i,j] = fft[j]\n",
    "\n",
    "        \n",
    "plt.imshow(waterfall, vmin = -2000, vmax = 3000)\n",
    "plt.title('Signal')\n",
    "plt.xlabel('Channel')\n",
    "plt.ylabel('Spectra')\n",
    "plt.xlim(0,200)\n",
    "plt.show()"
   ]
  },
  {
   "cell_type": "code",
   "execution_count": null,
   "metadata": {},
   "outputs": [],
   "source": [
    "plt.plot(np.mean(waterfall, axis=0))\n",
    "plt.xlim(0,500)"
   ]
  },
  {
   "cell_type": "markdown",
   "metadata": {},
   "source": [
    "### RFI excision"
   ]
  },
  {
   "cell_type": "code",
   "execution_count": null,
   "metadata": {},
   "outputs": [],
   "source": [
    "plt.plot(np.mean(waterfall, axis=0))\n",
    "plt.axvline(x=17, c='r')\n",
    "plt.axvline(30, c='r')\n",
    "plt.xlim(0,50)"
   ]
  },
  {
   "cell_type": "code",
   "execution_count": null,
   "metadata": {},
   "outputs": [],
   "source": [
    "recovered = np.mean(waterfall,axis=0)\n",
    "recovered[17:30] = 0\n",
    "plt.plot(recovered)\n",
    "plt.xlim(0,500)"
   ]
  },
  {
   "cell_type": "markdown",
   "metadata": {},
   "source": [
    "How close did we get to the chirp signal recovered?"
   ]
  },
  {
   "cell_type": "code",
   "execution_count": null,
   "metadata": {},
   "outputs": [],
   "source": [
    "plt.plot(recovered - 10*np.fft.fft(amplitude1[::10]))\n",
    "plt.xlim(0,512)"
   ]
  },
  {
   "cell_type": "code",
   "execution_count": null,
   "metadata": {},
   "outputs": [],
   "source": [
    "plt.plot(recovered - 10*np.fft.fft(amplitude1[::10]))\n",
    "plt.xlim(0,50)"
   ]
  },
  {
   "cell_type": "markdown",
   "metadata": {},
   "source": [
    "What happened between 17 and 30?"
   ]
  }
 ],
 "metadata": {
  "kernelspec": {
   "display_name": "Python 3",
   "language": "python",
   "name": "python3"
  },
  "language_info": {
   "codemirror_mode": {
    "name": "ipython",
    "version": 3
   },
   "file_extension": ".py",
   "mimetype": "text/x-python",
   "name": "python",
   "nbconvert_exporter": "python",
   "pygments_lexer": "ipython3",
   "version": "3.8.3"
  }
 },
 "nbformat": 4,
 "nbformat_minor": 4
}
