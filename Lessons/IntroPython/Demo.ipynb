{
 "cells": [
  {
   "cell_type": "markdown",
   "id": "a9039c42",
   "metadata": {},
   "source": [
    "## Introduction ##"
   ]
  },
  {
   "cell_type": "markdown",
   "id": "3ca4e7cb",
   "metadata": {},
   "source": [
    "This notebook provides some example code and discussion regarding the topics covered in the \"basic\" and \"advanced\" Python lessons. <b>Bold-faced text</b> may be clicked on to reveal additional text (i.e. spoilers)."
   ]
  },
  {
   "cell_type": "markdown",
   "id": "0b499721",
   "metadata": {},
   "source": [
    "## Variables ##"
   ]
  },
  {
   "cell_type": "markdown",
   "id": "0b4f18a8",
   "metadata": {},
   "source": [
    "Variables provide a means to store information somewhere and access it later. Syntactically, variables are names that return values when referenced. The following cell shows an example of this."
   ]
  },
  {
   "cell_type": "code",
   "execution_count": null,
   "id": "a280c3c7",
   "metadata": {
    "scrolled": true
   },
   "outputs": [],
   "source": [
    "x = 13.25  # Assign the value 13.25 to the variable x\n",
    "y = 22.17\n",
    "z = x + y  # Assign the value of the sum of x and y to the variable z\n",
    "w = z + 3.14\n",
    "print(x, y, z, w)  # Print the values of x, y, z, and w to the console"
   ]
  },
  {
   "cell_type": "markdown",
   "id": "6bb2e002",
   "metadata": {},
   "source": [
    "Let's take a moment to analyze some of the lines provided in the above example.  \n",
    "  \n",
    "The line `x = 13.25` can be interpreted as telling Python to \"create a variable named `x` and *assign* the value 13.25 to it\". In Python, `=` is called the *assignment operator*: it takes two objects and assigns the value of the object on the right of the operator to the variable on the left of the operator.  \n",
    "  \n",
    "Let's look at a slightly more complex example: `z = x + y`. Here, we're telling Python to look up the values of `x` and `y`, add them together, and assign the result to the variable `z`.  \n",
    "  \n",
    "Here's an example for the reader: what happens if we do `x = x + 5`?"
   ]
  },
  {
   "cell_type": "code",
   "execution_count": null,
   "id": "4d611af7",
   "metadata": {},
   "outputs": [],
   "source": [
    "x = x + 5\n",
    "print(x)"
   ]
  },
  {
   "cell_type": "markdown",
   "id": "5e232e43",
   "metadata": {},
   "source": [
    "<details>\n",
    "    <summary><b>Why does this work?</b></summary>\n",
    "    The assignment operator has the least precedence when Python decides the order of operations, so we're allowed to perform self-referential assignments like we have in the above example.\n",
    "</details>"
   ]
  },
  {
   "cell_type": "markdown",
   "id": "ac3669b6",
   "metadata": {},
   "source": [
    "## Data Types ##"
   ]
  },
  {
   "cell_type": "markdown",
   "id": "f3726fb7",
   "metadata": {},
   "source": [
    "What kinds of data can be stored in variables? What are the different *types* available to use in Python? Broadly speaking<sup>*</sup>, we can classify an object's type into one of these categories:  \n",
    "* numeric types, which represent numbers;\n",
    "* string types, which represent word-like objects;\n",
    "* boolean types, which represent True/False values;\n",
    "* collections, which allow us to group objects together;\n",
    "* custom types, defined by us!  \n",
    "  \n",
    "<br>\n",
    "Let's check out a few examples in the following cells.\n",
    "<br><br>\n",
    "<details>\n",
    "    <summary><b>*</b></summary>\n",
    "    This isn't exactly true&mdash;things get kind of funky (in a \"it's turtles all the way down\" sense) when you dig into the nitty-gritty of it, but that's *way* beyond the scope of this tutorial! If you're curious, check out what's returned when you do type(type).\n",
    "</details>"
   ]
  },
  {
   "cell_type": "code",
   "execution_count": null,
   "id": "a8753c4a",
   "metadata": {},
   "outputs": [],
   "source": [
    "x = 1.234  # Floating point number\n",
    "print(type(x))"
   ]
  },
  {
   "cell_type": "code",
   "execution_count": null,
   "id": "3c7b357f",
   "metadata": {},
   "outputs": [],
   "source": [
    "y = 3324  # Integer\n",
    "print(type(y))"
   ]
  },
  {
   "cell_type": "code",
   "execution_count": null,
   "id": "71be8e16",
   "metadata": {},
   "outputs": [],
   "source": [
    "z = x + y  # int + float gives a float\n",
    "print(type(z))"
   ]
  },
  {
   "cell_type": "code",
   "execution_count": null,
   "id": "05387f21",
   "metadata": {},
   "outputs": [],
   "source": [
    "z = 3 * 1.234  # int * float gives a float\n",
    "print(type(z))"
   ]
  },
  {
   "cell_type": "code",
   "execution_count": null,
   "id": "b358265d",
   "metadata": {},
   "outputs": [],
   "source": [
    "z = 4 / 2  # int / int gives a float\n",
    "print(type(z))"
   ]
  },
  {
   "cell_type": "code",
   "execution_count": null,
   "id": "09f98ee6",
   "metadata": {},
   "outputs": [],
   "source": [
    "z = 1 + 1j  # complex number\n",
    "print(type(z))"
   ]
  },
  {
   "cell_type": "code",
   "execution_count": null,
   "id": "d569bd93",
   "metadata": {},
   "outputs": [],
   "source": [
    "# Real and imaginary parts of a complex number are floating point numbers\n",
    "print(type(z.real), type(z.imag))"
   ]
  },
  {
   "cell_type": "code",
   "execution_count": null,
   "id": "f0c9aca3",
   "metadata": {},
   "outputs": [],
   "source": [
    "text = \"example\"  # string\n",
    "print(type(text))"
   ]
  },
  {
   "cell_type": "code",
   "execution_count": null,
   "id": "7ff859f5",
   "metadata": {},
   "outputs": [],
   "source": [
    "truth_value = False\n",
    "print(type(truth_value))"
   ]
  },
  {
   "cell_type": "code",
   "execution_count": null,
   "id": "ef89adb1",
   "metadata": {},
   "outputs": [],
   "source": [
    "truth_value = 3 > 5  # Boolean expressions can be evaluated and assigned to a variable\n",
    "print(type(truth_value))"
   ]
  },
  {
   "cell_type": "markdown",
   "id": "26d59c23",
   "metadata": {},
   "source": [
    "### Casting ###"
   ]
  },
  {
   "cell_type": "markdown",
   "id": "124d75da",
   "metadata": {},
   "source": [
    "Some types can be cast to other types! Here are some examples of casting from one type to another:"
   ]
  },
  {
   "cell_type": "code",
   "execution_count": null,
   "id": "303caf5f",
   "metadata": {},
   "outputs": [],
   "source": [
    "x = 1.234\n",
    "x = str(x)  # Cast a float to a string\n",
    "print(x, type(x))"
   ]
  },
  {
   "cell_type": "code",
   "execution_count": null,
   "id": "c5e0937e",
   "metadata": {},
   "outputs": [],
   "source": [
    "y = \"3.221\"\n",
    "y = float(y)  # Cast a string to a float\n",
    "print(y, type(y))"
   ]
  },
  {
   "cell_type": "code",
   "execution_count": null,
   "id": "54b68870",
   "metadata": {},
   "outputs": [],
   "source": [
    "z = 3.2342\n",
    "z = int(z)  # Cast a float to an int; same as taking the floor\n",
    "print(z, type(z))"
   ]
  },
  {
   "cell_type": "code",
   "execution_count": null,
   "id": "16ce910e",
   "metadata": {},
   "outputs": [],
   "source": [
    "# Let's try doing a casting that doesn't make sense\n",
    "x = \"fish\"\n",
    "x = float(x)"
   ]
  },
  {
   "cell_type": "markdown",
   "id": "b803d02d",
   "metadata": {},
   "source": [
    "<details>\n",
    "    <summary><b>What happened?</b></summary>\n",
    "    Python doesn't know how to create a floating point number that represents the word \"fish\", so it gives us an error. Notice that it gave us a ValueError: this means it knows how to convert <i>some</i> strings to floating point numbers, but the string we provided had a value that couldn't be converted into a number.\n",
    "</details>"
   ]
  },
  {
   "cell_type": "markdown",
   "id": "0154032c",
   "metadata": {},
   "source": [
    "## Collections ##"
   ]
  },
  {
   "cell_type": "markdown",
   "id": "23b4fab0",
   "metadata": {},
   "source": [
    "Python provides four different ways of grouping objects together: tuples, lists, sets, and dictionaries. We'll go over the basics of each of these objects in the following cells."
   ]
  },
  {
   "cell_type": "markdown",
   "id": "e3c7877a",
   "metadata": {},
   "source": [
    "### Tuples ###"
   ]
  },
  {
   "cell_type": "markdown",
   "id": "0fd82352",
   "metadata": {},
   "source": [
    "Tuples are *immutable* collections of objects of any type. *Immutable* means that individual elements in a tuple cannot be changed once the tuple is assigned to a variable. Tuples are created either via a comma-separated list enclosed in parenthesis `(a,b,...)`, or calling the `tuple` class via `tuple(...)`. Here are some examples:"
   ]
  },
  {
   "cell_type": "code",
   "execution_count": null,
   "id": "09280484",
   "metadata": {},
   "outputs": [],
   "source": [
    "a = (1, 2, 3)\n",
    "print(a)"
   ]
  },
  {
   "cell_type": "markdown",
   "id": "af4e6ba9",
   "metadata": {},
   "source": [
    "The individual elements of a tuple can be retrieved by *indexing* into the tuple like so:"
   ]
  },
  {
   "cell_type": "code",
   "execution_count": null,
   "id": "ffc5f4a2",
   "metadata": {},
   "outputs": [],
   "source": [
    "print(a[1])"
   ]
  },
  {
   "cell_type": "markdown",
   "id": "c651a8dc",
   "metadata": {},
   "source": [
    "<details>\n",
    "    <summary><b>Why does a[1] give the second value in a?</b></summary>\n",
    "    Python uses <i>zero-indexing</i> for indexed collections. In other words, Python starts counting at zero, rather than one.\n",
    "</details>"
   ]
  },
  {
   "cell_type": "markdown",
   "id": "e594a644",
   "metadata": {},
   "source": [
    "We can retrieve a subsection of a tuple by taking a *slice* of it. The slice syntax generically follows `[start:stop:step]`, where `start` is the index of the first element to retrieve, `stop` is the last, *non-inclusive*, index to retrieve, and `step` is the number of items to skip when *slicing* from `start` to `stop`. Here are some examples:"
   ]
  },
  {
   "cell_type": "code",
   "execution_count": null,
   "id": "00003410",
   "metadata": {},
   "outputs": [],
   "source": [
    "example_tuple = tuple(range(10))  # Make a tuple containing numbers from zero to nine\n",
    "example_slice = example_tuple[1:5]  # Get elements 1 through 5, exclusive\n",
    "evens = example_tuple[::2]  # Start at element 0 and retrieve every other element\n",
    "odds = example_tuple[1::2]  # Start at element 1 and retrieve every other element\n",
    "reverse = example_tuple[::-1]  # Retrieve the elements in reverse order\n",
    "last_few = example_tuple[-4:]  # Retrieve the last four elements of the tuple\n",
    "print(\"We start with: \", example_tuple)\n",
    "print(\"The first slice gives: \", example_slice)\n",
    "print(\"The second slice gives the even numbers: \", evens)\n",
    "print(\"The third slice gives the odd numbers: \", odds)\n",
    "print(\"The fourth slice gives the numbers in reverse: \", reverse)\n",
    "print(\"The fifth slice gives the last four numbers: \", last_few)"
   ]
  },
  {
   "cell_type": "code",
   "execution_count": null,
   "id": "dfeb4336",
   "metadata": {},
   "outputs": [],
   "source": [
    "# Try to change an element of a tuple\n",
    "a = (1, 2, 3)\n",
    "a[1] = 5"
   ]
  },
  {
   "cell_type": "markdown",
   "id": "c19cbd35",
   "metadata": {},
   "source": [
    "### Lists ###"
   ]
  },
  {
   "cell_type": "markdown",
   "id": "f074ccf2",
   "metadata": {},
   "source": [
    "Lists are nearly identical to tuples&mdash;the only real difference is that lists are *mutable*. Here's a quick example:"
   ]
  },
  {
   "cell_type": "code",
   "execution_count": null,
   "id": "f95c6380",
   "metadata": {},
   "outputs": [],
   "source": [
    "example_list = [1, 2, 3]\n",
    "example_list[1] = \"banana\"\n",
    "print(example_list)"
   ]
  },
  {
   "cell_type": "markdown",
   "id": "adf62964",
   "metadata": {},
   "source": [
    "Both lists and tuples support addition and multiplication. Adding two tuples together *concatenates* the input:"
   ]
  },
  {
   "cell_type": "code",
   "execution_count": null,
   "id": "a5f1bfce",
   "metadata": {},
   "outputs": [],
   "source": [
    "print((1,2,3) + (4,5,6))"
   ]
  },
  {
   "cell_type": "markdown",
   "id": "adea6c8d",
   "metadata": {},
   "source": [
    "Multiplication by an integer `n` is shorthand for \"repeat the list/tuple `n` times\":"
   ]
  },
  {
   "cell_type": "code",
   "execution_count": null,
   "id": "19b3a8de",
   "metadata": {},
   "outputs": [],
   "source": [
    "print(['a','b'] * 3)"
   ]
  },
  {
   "cell_type": "markdown",
   "id": "c4f6f389",
   "metadata": {},
   "source": [
    "Try adding together a list and a tuple:"
   ]
  },
  {
   "cell_type": "code",
   "execution_count": null,
   "id": "a7896e54",
   "metadata": {},
   "outputs": [],
   "source": [
    "# Your code here\n"
   ]
  },
  {
   "cell_type": "markdown",
   "id": "5bc7fb8d",
   "metadata": {},
   "source": [
    "### Sets ###"
   ]
  },
  {
   "cell_type": "markdown",
   "id": "1f2fd42d",
   "metadata": {},
   "source": [
    "Sets are similar to lists and tuples in the sense that they provide a means of collecting objects together, but there are some key differences:  \n",
    "  \n",
    "1. Sets are not indexed, but rather *hashed*. This means it's faster to look for items in a set rather than in a list or tuple.\n",
    "2. Sets exclusively contain unique objects&mdash;trying to add repeat items to a set will not increase the length of the set.\n",
    "3. Sets of numerical objects are automatically ordered.  \n",
    "  \n",
    "Here are some examples:"
   ]
  },
  {
   "cell_type": "code",
   "execution_count": null,
   "id": "68af5d46",
   "metadata": {},
   "outputs": [],
   "source": [
    "list(set([3, 1, 5, 7, 2, 15]))"
   ]
  },
  {
   "cell_type": "code",
   "execution_count": null,
   "id": "68bc6d9c",
   "metadata": {},
   "outputs": [],
   "source": [
    "base_set = {1, 2, 3}\n",
    "new_set = base_set.union({3,4,5})  # Make a new set that is the union of base_set and {3,4,5}\n",
    "print(base_set, new_set)"
   ]
  },
  {
   "cell_type": "code",
   "execution_count": null,
   "id": "c0fabbe9",
   "metadata": {},
   "outputs": [],
   "source": [
    "other_set = set([3,1,2])  # A list can be cast to a set\n",
    "print(other_set)  # Sets are automatically ordered if possible"
   ]
  },
  {
   "cell_type": "code",
   "execution_count": null,
   "id": "acd0350a",
   "metadata": {},
   "outputs": [],
   "source": [
    "unique_chars = set(\"fad adf daf fffddaa\")  # Sets can extract the unique characters in a string\n",
    "print(unique_chars)"
   ]
  },
  {
   "cell_type": "code",
   "execution_count": null,
   "id": "10a50d09",
   "metadata": {},
   "outputs": [],
   "source": [
    "unsorted_list = [1, 5, 3, 13, 12, 7, 2, 5]\n",
    "sorted_unique_list = list(set(unsorted_list))  # Sort and extract unique elements\n",
    "sorted_list = sorted(unsorted_list)  # Sort the list using the builtin sorted function\n",
    "print(\"The original list is: \", unsorted_list)\n",
    "print(\"The unique, sorted elements are:\", sorted_unique_list)\n",
    "print(\"The sorted elements are: \", sorted_list)"
   ]
  },
  {
   "cell_type": "code",
   "execution_count": null,
   "id": "95416d30",
   "metadata": {},
   "outputs": [],
   "source": [
    "# Try indexing into a set\n",
    "print(base_set[1])"
   ]
  },
  {
   "cell_type": "markdown",
   "id": "f26ad68b",
   "metadata": {},
   "source": [
    "### Dictionaries ###"
   ]
  },
  {
   "cell_type": "markdown",
   "id": "327863ae",
   "metadata": {},
   "source": [
    "Dictionaries are also collections, but they're somewhat more complex structures. A *dictionary* is a *mapping* from *keys* to *values*. We have two ways of creating a dictionary:"
   ]
  },
  {
   "cell_type": "code",
   "execution_count": null,
   "id": "6a2cf717",
   "metadata": {},
   "outputs": [],
   "source": [
    "this_dict = dict(key1=1, key2=\"fish\")\n",
    "that_dict = {\"key2\": \"value2\", \"key1\": \"value1\"}\n",
    "print(this_dict)\n",
    "print(that_dict)"
   ]
  },
  {
   "cell_type": "markdown",
   "id": "f53c05eb",
   "metadata": {},
   "source": [
    "It is important to note that as of Python 3.6 all dictionaries are *insertion ordered*. In other words, if you're using a version 3.6 or higher of Python, then any dictionary you create will \"remember\" the order that elements were added to it."
   ]
  },
  {
   "cell_type": "markdown",
   "id": "dbe5f4f1",
   "metadata": {},
   "source": [
    "Similar to sets, dictionaries are *hashed* collections. Unlike sets, however, we can *subscript* dictionaries. Here are some examples:"
   ]
  },
  {
   "cell_type": "code",
   "execution_count": null,
   "id": "303ac7de",
   "metadata": {},
   "outputs": [],
   "source": [
    "example_dict = dict(alpha=\"value1\", gamma=\"value3\", beta=\"value2\")\n",
    "value2 = example_dict['beta']  # Retrieve the value associated with the key 'beta'\n",
    "example_dict['beta'] = 0.9999  # Update the value associated with the key 'beta'\n",
    "print(\"The value associated with key 'beta' is: \", value2)\n",
    "print(\"The updated dictionary is: \", example_dict)"
   ]
  },
  {
   "cell_type": "markdown",
   "id": "c243a802",
   "metadata": {},
   "source": [
    "## Conditionals ##"
   ]
  },
  {
   "cell_type": "markdown",
   "id": "ce5ceb87",
   "metadata": {},
   "source": [
    "So far we've gone over the core objects used in Python programs, but this doesn't give us much computational power&mdash;we've learned the core ingredients we'll be using, but we haven't learned many of the things we can do with those ingredients. Often times we'll want our code to do different things based on the input it's provided, and we can do this through the use of *conditionals*. Here are some examples:"
   ]
  },
  {
   "cell_type": "markdown",
   "id": "233a24d4",
   "metadata": {},
   "source": [
    "Let's write something that tells us whether a number is even or odd. We'll be using two new operators: the *modulus* operator, `%`, and the *equivalence* operator, `==`. For those who are unfamiliar, the modulus operation `a % b` divides `a` by `b` and returns the remainder."
   ]
  },
  {
   "cell_type": "code",
   "execution_count": null,
   "id": "41df0d5c",
   "metadata": {},
   "outputs": [],
   "source": [
    "x = 13\n",
    "if x % 2 == 0:\n",
    "    print(\"x is even\")\n",
    "else:\n",
    "    print(\"x is odd\")"
   ]
  },
  {
   "cell_type": "markdown",
   "id": "81b77b51",
   "metadata": {},
   "source": [
    "We can account for multiple cases by using the `elif` clause, like so:"
   ]
  },
  {
   "cell_type": "code",
   "execution_count": null,
   "id": "8365973d",
   "metadata": {},
   "outputs": [],
   "source": [
    "x = 9\n",
    "if x % 2 == 0:\n",
    "    print(\"x is even\")\n",
    "elif x % 3 == 0:\n",
    "    print(\"x is odd and divisible by 3\")\n",
    "else:\n",
    "    print(\"x is odd and not divisible by 3\")"
   ]
  },
  {
   "cell_type": "markdown",
   "id": "3ce80e36",
   "metadata": {},
   "source": [
    "## Loops ##"
   ]
  },
  {
   "cell_type": "markdown",
   "id": "fc9e83e8",
   "metadata": {},
   "source": [
    "Another cornerstone of programming is the notion of *looping*. This is where the program repeatedly executes a block of code according to a set of rules we prescribe. There are two types of loops used in Python: *while* loops and *for* loops. A *while* loop iterates repeatedly until a certain condition is met; a *for* loop iterates over a collection. Here are some examples:"
   ]
  },
  {
   "cell_type": "code",
   "execution_count": null,
   "id": "a9b111c4",
   "metadata": {},
   "outputs": [],
   "source": [
    "counter = 0\n",
    "while counter < 5:  # As long as counter is less than 5, keep executing the code below\n",
    "    print(counter)  # Print where we're at\n",
    "    counter += 1  # Increase the counter by one"
   ]
  },
  {
   "cell_type": "code",
   "execution_count": null,
   "id": "ee498f27",
   "metadata": {},
   "outputs": [],
   "source": [
    "# Let's write a for loop that effectively does the same thing as the previous cell\n",
    "for counter in range(5):\n",
    "    print(counter)"
   ]
  },
  {
   "cell_type": "markdown",
   "id": "080a3f73",
   "metadata": {},
   "source": [
    "You may have noticed that the contents of the code inside the loop (as well as inside the conditional blocks in the previous section) is indented relative to where the loop is initiated. This is an essential feature of Python: if the indentation is inconsistent (or absent), then Python doesn't know what to do:"
   ]
  },
  {
   "cell_type": "code",
   "execution_count": null,
   "id": "f2f4e0d7",
   "metadata": {},
   "outputs": [],
   "source": [
    "for x in range(5):\n",
    "  y = 15\n",
    "    print(x)"
   ]
  },
  {
   "cell_type": "markdown",
   "id": "a2d24ee1",
   "metadata": {},
   "source": [
    "We can create more complex structures by combining conditionals and loops:"
   ]
  },
  {
   "cell_type": "code",
   "execution_count": null,
   "id": "fc2f375a",
   "metadata": {},
   "outputs": [],
   "source": [
    "for x in range(1,5):  # Loop over numbers from 1 through 4\n",
    "    if x % 2 == 0:\n",
    "        print(x, \"is even\")\n",
    "    else:\n",
    "        print(x, \"is odd\")"
   ]
  },
  {
   "cell_type": "markdown",
   "id": "c4bbcfad",
   "metadata": {},
   "source": [
    "We can exit out of a loop using `break`:"
   ]
  },
  {
   "cell_type": "code",
   "execution_count": null,
   "id": "ac381567",
   "metadata": {},
   "outputs": [],
   "source": [
    "count = 0\n",
    "while True:  # Loop forever\n",
    "    if count > 3:\n",
    "        break\n",
    "    count += 1\n",
    "print(\"We made it out!\")"
   ]
  },
  {
   "cell_type": "markdown",
   "id": "df516c57",
   "metadata": {},
   "source": [
    "We can loop over items in a dictionary:"
   ]
  },
  {
   "cell_type": "code",
   "execution_count": null,
   "id": "56753891",
   "metadata": {},
   "outputs": [],
   "source": [
    "test_dict = dict(a=1, b=2, c=3)\n",
    "for key, value in test_dict.items():\n",
    "    print(key, value)"
   ]
  },
  {
   "cell_type": "markdown",
   "id": "c2a608e2",
   "metadata": {},
   "source": [
    "# End \"Introductory\" Section #"
   ]
  },
  {
   "cell_type": "markdown",
   "id": "692ca9dc",
   "metadata": {},
   "source": [
    "So far we've covered the basic objects used in Python programs and some of the simple ways we can use those objects to create complex behavior. In the following sections, we'll cover some of the more advanced&mdash;but still fundamental&mdash;things we can do with Python."
   ]
  },
  {
   "cell_type": "code",
   "execution_count": null,
   "id": "d84f473f",
   "metadata": {},
   "outputs": [],
   "source": []
  }
 ],
 "metadata": {
  "kernelspec": {
   "display_name": "Python 3 (ipykernel)",
   "language": "python",
   "name": "python3"
  },
  "language_info": {
   "codemirror_mode": {
    "name": "ipython",
    "version": 3
   },
   "file_extension": ".py",
   "mimetype": "text/x-python",
   "name": "python",
   "nbconvert_exporter": "python",
   "pygments_lexer": "ipython3",
   "version": "3.9.7"
  }
 },
 "nbformat": 4,
 "nbformat_minor": 5
}
