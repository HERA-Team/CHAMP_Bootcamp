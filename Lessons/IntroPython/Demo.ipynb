{
 "cells": [
  {
   "cell_type": "markdown",
   "id": "a9039c42",
   "metadata": {},
   "source": [
    "## Introduction ##"
   ]
  },
  {
   "cell_type": "markdown",
   "id": "3ca4e7cb",
   "metadata": {},
   "source": [
    "This notebook provides some example code and discussion regarding the topics covered in the \"basic\" and \"advanced\" Python lessons. <b>Bold-faced text</b> may be clicked on to reveal additional text (i.e. spoilers)."
   ]
  },
  {
   "cell_type": "markdown",
   "id": "0b499721",
   "metadata": {},
   "source": [
    "## Variables ##"
   ]
  },
  {
   "cell_type": "markdown",
   "id": "0b4f18a8",
   "metadata": {},
   "source": [
    "Variables provide a means to store information somewhere and access it later. Syntactically, variables are names that return values when referenced. The following cell shows an example of this."
   ]
  },
  {
   "cell_type": "code",
   "execution_count": null,
   "id": "a280c3c7",
   "metadata": {
    "scrolled": true
   },
   "outputs": [],
   "source": [
    "x = 13.25  # Assign the value 13.25 to the variable x\n",
    "y = 22.17\n",
    "z = x + y  # Assign the value of the sum of x and y to the variable z\n",
    "w = z + 3.14\n",
    "print(x, y, z, w)  # Print the values of x, y, z, and w to the console"
   ]
  },
  {
   "cell_type": "markdown",
   "id": "2214ef83",
   "metadata": {},
   "source": [
    "Let's take a moment to analyze some of the lines provided in the above example.  \n",
    "  \n",
    "The line `x = 13.25` can be interpreted as telling Python to \"create a variable named `x` and *assign* the value 13.25 to it\". In Python, `=` is called the *assignment operator*: it takes two objects and assigns the value of the object on the right of the operator to the variable on the left of the operator.  \n",
    "  \n",
    "Let's look at a slightly more complex example: `z = x + y`. Here, we're telling Python to look up the values of `x` and `y`, add them together, and assign the result to the variable `z`.  \n",
    "  \n",
    "Here's an example for the reader: what happens if we do `x = x + 5`?"
   ]
  },
  {
   "cell_type": "code",
   "execution_count": null,
   "id": "293c7e8b",
   "metadata": {},
   "outputs": [],
   "source": [
    "x = x + 5\n",
    "print(x)"
   ]
  },
  {
   "cell_type": "markdown",
   "id": "40ab7c60",
   "metadata": {},
   "source": [
    "<details>\n",
    "    <summary><b>Why does this work?</b></summary>\n",
    "    The assignment operator has the least precedence when Python decides the order of operations, so we're allowed to perform self-referential assignments like we have in the above example.\n",
    "</details>"
   ]
  },
  {
   "cell_type": "markdown",
   "id": "c17f7e43",
   "metadata": {},
   "source": [
    "## Data Types ##"
   ]
  },
  {
   "cell_type": "markdown",
   "id": "a6c15dd8",
   "metadata": {},
   "source": [
    "What kinds of data can be stored in variables? What are the different *types* available to use in Python? Broadly speaking<sup>*</sup>, we can classify an object's type into one of these categories:  \n",
    "* numeric types, which represent numbers;\n",
    "* string types, which represent word-like objects;\n",
    "* boolean types, which represent True/False values;\n",
    "* collections, which allow us to group objects together;\n",
    "* custom types, defined by us!  \n",
    "  \n",
    "<br>\n",
    "Let's check out a few examples in the following cells.\n",
    "<br><br>\n",
    "<details>\n",
    "    <summary><b>*</b></summary>\n",
    "    This isn't exactly true&mdash;things get kind of funky (in a \"it's turtles all the way down\" sense) when you dig into the nitty-gritty of it, but that's *way* beyond the scope of this tutorial! If you're curious, check out what's returned when you do type(type).\n",
    "</details>"
   ]
  },
  {
   "cell_type": "code",
   "execution_count": null,
   "id": "9242cb7c",
   "metadata": {},
   "outputs": [],
   "source": [
    "y = 3324  # Integer\n",
    "print(type(y))"
   ]
  },
  {
   "cell_type": "code",
   "execution_count": null,
   "id": "1bf530e2",
   "metadata": {},
   "outputs": [],
   "source": [
    "x = 1.234  # Floating point number\n",
    "print(type(x))"
   ]
  },
  {
   "cell_type": "code",
   "execution_count": null,
   "id": "6794385b",
   "metadata": {},
   "outputs": [],
   "source": [
    "z = 1.2 + 3j  # Complex number\n",
    "print(type(z))"
   ]
  },
  {
   "cell_type": "code",
   "execution_count": null,
   "id": "098635ca",
   "metadata": {},
   "outputs": [],
   "source": [
    "# Real and imaginary parts of a complex number are floating point numbers\n",
    "print(type(z.real), type(z.imag))"
   ]
  },
  {
   "cell_type": "code",
   "execution_count": null,
   "id": "6fbee40e",
   "metadata": {},
   "outputs": [],
   "source": [
    "z = x + y  # int + float gives a float\n",
    "print(type(z))"
   ]
  },
  {
   "cell_type": "code",
   "execution_count": null,
   "id": "a8d1229b",
   "metadata": {},
   "outputs": [],
   "source": [
    "z = 3 * 1.234  # int * float gives a float\n",
    "print(type(z))"
   ]
  },
  {
   "cell_type": "code",
   "execution_count": null,
   "id": "7f3e1dd0",
   "metadata": {},
   "outputs": [],
   "source": [
    "z = 4 / 2  # int / int gives a float\n",
    "print(type(z))"
   ]
  },
  {
   "cell_type": "code",
   "execution_count": null,
   "id": "b2ec0d44",
   "metadata": {},
   "outputs": [],
   "source": [
    "z = 4 // 2  # ...but int // int gives an int!\n",
    "print(type(z))"
   ]
  },
  {
   "cell_type": "code",
   "execution_count": null,
   "id": "629f55b9",
   "metadata": {},
   "outputs": [],
   "source": [
    "text = \"example\"  # string\n",
    "print(type(text))"
   ]
  },
  {
   "cell_type": "code",
   "execution_count": null,
   "id": "e486f88b",
   "metadata": {},
   "outputs": [],
   "source": [
    "truth_value = False\n",
    "print(type(truth_value))"
   ]
  },
  {
   "cell_type": "code",
   "execution_count": null,
   "id": "363c33be",
   "metadata": {},
   "outputs": [],
   "source": [
    "truth_value = 3 > 5  # Boolean expressions can be evaluated and assigned to a variable\n",
    "print(type(truth_value))"
   ]
  },
  {
   "cell_type": "markdown",
   "id": "20aa269a",
   "metadata": {},
   "source": [
    "### Casting ###"
   ]
  },
  {
   "cell_type": "markdown",
   "id": "ec570373",
   "metadata": {},
   "source": [
    "Some types can be cast to other types! Here are some examples of casting from one type to another:"
   ]
  },
  {
   "cell_type": "code",
   "execution_count": null,
   "id": "21252397",
   "metadata": {},
   "outputs": [],
   "source": [
    "x = 1.234\n",
    "x = str(x)  # Cast a float to a string\n",
    "print(x, type(x))"
   ]
  },
  {
   "cell_type": "code",
   "execution_count": null,
   "id": "b600cd55",
   "metadata": {},
   "outputs": [],
   "source": [
    "y = \"3.221\"\n",
    "y = float(y)  # Cast a string to a float\n",
    "print(y, type(y))"
   ]
  },
  {
   "cell_type": "code",
   "execution_count": null,
   "id": "92f9c146",
   "metadata": {},
   "outputs": [],
   "source": [
    "z = 3.2342\n",
    "z = int(z)  # Cast a float to an int; same as taking the floor\n",
    "print(z, type(z))"
   ]
  },
  {
   "cell_type": "code",
   "execution_count": null,
   "id": "87a6ad4e",
   "metadata": {},
   "outputs": [],
   "source": [
    "# Let's try doing a casting that doesn't make sense\n",
    "x = \"fish\"\n",
    "x = float(x)"
   ]
  },
  {
   "cell_type": "markdown",
   "id": "f96649df",
   "metadata": {},
   "source": [
    "<details>\n",
    "    <summary><b>What happened?</b></summary>\n",
    "    Python doesn't know how to create a floating point number that represents the word \"fish\", so it gives us an error. Notice that it gave us a ValueError: this means it knows how to convert <i>some</i> strings to floating point numbers, but the string we provided had a value that couldn't be converted into a number.\n",
    "</details>"
   ]
  },
  {
   "cell_type": "markdown",
   "id": "4e160df5",
   "metadata": {},
   "source": [
    "## Collections ##"
   ]
  },
  {
   "cell_type": "markdown",
   "id": "9f462f2f",
   "metadata": {},
   "source": [
    "Python provides four different ways of grouping objects together: tuples, lists, sets, and dictionaries. We'll go over the basics of each of these objects in the following cells."
   ]
  },
  {
   "cell_type": "markdown",
   "id": "d6c85f1b",
   "metadata": {},
   "source": [
    "### Tuples ###"
   ]
  },
  {
   "cell_type": "markdown",
   "id": "1ab7c415",
   "metadata": {},
   "source": [
    "Tuples are *immutable* collections of objects of any type. *Immutable* means that individual elements in a tuple cannot be changed once the tuple is assigned to a variable. Tuples are created either via a comma-separated list enclosed in parenthesis `(a,b,...)`, or calling the `tuple` class via `tuple(...)`. Here are some examples:"
   ]
  },
  {
   "cell_type": "code",
   "execution_count": null,
   "id": "6d550185",
   "metadata": {},
   "outputs": [],
   "source": [
    "a = (1, 2, 3)\n",
    "print(a)"
   ]
  },
  {
   "cell_type": "markdown",
   "id": "9c491d29",
   "metadata": {},
   "source": [
    "The individual elements of a tuple can be retrieved by *indexing* into the tuple like so:"
   ]
  },
  {
   "cell_type": "code",
   "execution_count": null,
   "id": "9ffc7e15",
   "metadata": {},
   "outputs": [],
   "source": [
    "print(a[1])"
   ]
  },
  {
   "cell_type": "markdown",
   "id": "2f6adb3b",
   "metadata": {},
   "source": [
    "<details>\n",
    "    <summary><b>Why does a[1] give the second value in a?</b></summary>\n",
    "    Python uses <i>zero-indexing</i> for indexed collections. In other words, Python starts counting at zero, rather than one.\n",
    "</details>"
   ]
  },
  {
   "cell_type": "markdown",
   "id": "6d9b22f8",
   "metadata": {},
   "source": [
    "We can retrieve a subsection of a tuple by taking a *slice* of it. The slice syntax generically follows `[start:stop:step]`, where `start` is the index of the first element to retrieve, `stop` is the last, *non-inclusive*, index to retrieve, and `step` is the number of items to skip when *slicing* from `start` to `stop`. Here are some examples:"
   ]
  },
  {
   "cell_type": "code",
   "execution_count": null,
   "id": "33eed27b",
   "metadata": {},
   "outputs": [],
   "source": [
    "example_tuple = tuple(range(10))  # Make a tuple containing numbers from zero to nine\n",
    "example_slice = example_tuple[1:5]  # Get elements 1 through 5, exclusive\n",
    "evens = example_tuple[::2]  # Start at element 0 and retrieve every other element\n",
    "odds = example_tuple[1::2]  # Start at element 1 and retrieve every other element\n",
    "reverse = example_tuple[::-1]  # Retrieve the elements in reverse order\n",
    "last_few = example_tuple[-4:]  # Retrieve the last four elements of the tuple\n",
    "print(\"We start with: \", example_tuple)\n",
    "print(\"The first slice gives: \", example_slice)\n",
    "print(\"The second slice gives the even numbers: \", evens)\n",
    "print(\"The third slice gives the odd numbers: \", odds)\n",
    "print(\"The fourth slice gives the numbers in reverse: \", reverse)\n",
    "print(\"The fifth slice gives the last four numbers: \", last_few)"
   ]
  },
  {
   "cell_type": "code",
   "execution_count": null,
   "id": "101b5f28",
   "metadata": {},
   "outputs": [],
   "source": [
    "# Try to change an element of a tuple\n",
    "a = (1, 2, 3)\n",
    "a[1] = 5"
   ]
  },
  {
   "cell_type": "markdown",
   "id": "b131ef5d",
   "metadata": {},
   "source": [
    "### Lists ###"
   ]
  },
  {
   "cell_type": "markdown",
   "id": "0d6329c9",
   "metadata": {},
   "source": [
    "Lists are nearly identical to tuples&mdash;the only real difference is that lists are *mutable*. Here's a quick example:"
   ]
  },
  {
   "cell_type": "code",
   "execution_count": null,
   "id": "e0796be3",
   "metadata": {},
   "outputs": [],
   "source": [
    "example_list = [1, 2, 3]\n",
    "example_list[1] = \"banana\"\n",
    "print(example_list)"
   ]
  },
  {
   "cell_type": "markdown",
   "id": "3b81e3bb",
   "metadata": {},
   "source": [
    "Both lists and tuples support addition and multiplication. Adding two tuples together *concatenates* the input:"
   ]
  },
  {
   "cell_type": "code",
   "execution_count": null,
   "id": "8f62810d",
   "metadata": {},
   "outputs": [],
   "source": [
    "print((1,2,3) + (4,5,6))"
   ]
  },
  {
   "cell_type": "markdown",
   "id": "bf9ea0e6",
   "metadata": {},
   "source": [
    "Multiplication by an integer `n` is shorthand for \"repeat the list/tuple `n` times\":"
   ]
  },
  {
   "cell_type": "code",
   "execution_count": null,
   "id": "97f71bec",
   "metadata": {},
   "outputs": [],
   "source": [
    "print(['a','b'] * 3)"
   ]
  },
  {
   "cell_type": "markdown",
   "id": "1b575dfa",
   "metadata": {},
   "source": [
    "Try adding together a list and a tuple:"
   ]
  },
  {
   "cell_type": "code",
   "execution_count": null,
   "id": "c820ccfa",
   "metadata": {},
   "outputs": [],
   "source": [
    "# Your code here\n"
   ]
  },
  {
   "cell_type": "markdown",
   "id": "1eba528e",
   "metadata": {},
   "source": [
    "### Sets ###"
   ]
  },
  {
   "cell_type": "markdown",
   "id": "b5243b58",
   "metadata": {},
   "source": [
    "Sets are similar to lists and tuples in the sense that they provide a means of collecting objects together, but there are some key differences:  \n",
    "  \n",
    "1. Sets are not indexed, but rather *hashed*. This means it's faster to look for items in a set rather than in a list or tuple.\n",
    "2. Sets exclusively contain unique objects&mdash;trying to add repeat items to a set will not increase the length of the set.\n",
    "3. Sets of numerical objects are automatically ordered.  \n",
    "  \n",
    "Here are some examples:"
   ]
  },
  {
   "cell_type": "code",
   "execution_count": null,
   "id": "e88de9b1",
   "metadata": {},
   "outputs": [],
   "source": [
    "list(set([3, 1, 5, 7, 2, 15]))"
   ]
  },
  {
   "cell_type": "code",
   "execution_count": null,
   "id": "563334b3",
   "metadata": {},
   "outputs": [],
   "source": [
    "base_set = {1, 2, 3}\n",
    "new_set = base_set.union({3,4,5})  # Make a new set that is the union of base_set and {3,4,5}\n",
    "print(base_set, new_set)"
   ]
  },
  {
   "cell_type": "code",
   "execution_count": null,
   "id": "b5fbaaa2",
   "metadata": {},
   "outputs": [],
   "source": [
    "other_set = set([3,1,2])  # A list can be cast to a set\n",
    "print(other_set)  # Sets are automatically ordered if possible"
   ]
  },
  {
   "cell_type": "code",
   "execution_count": null,
   "id": "4cccb8d9",
   "metadata": {},
   "outputs": [],
   "source": [
    "unique_chars = set(\"fad adf daf fffddaa\")  # Sets can extract the unique characters in a string\n",
    "print(unique_chars)"
   ]
  },
  {
   "cell_type": "code",
   "execution_count": null,
   "id": "1220e805",
   "metadata": {},
   "outputs": [],
   "source": [
    "unsorted_list = [1, 5, 3, 13, 12, 7, 2, 5]\n",
    "sorted_unique_list = list(set(unsorted_list))  # Sort and extract unique elements\n",
    "sorted_list = sorted(unsorted_list)  # Sort the list using the builtin sorted function\n",
    "print(\"The original list is: \", unsorted_list)\n",
    "print(\"The unique, sorted elements are:\", sorted_unique_list)\n",
    "print(\"The sorted elements are: \", sorted_list)"
   ]
  },
  {
   "cell_type": "code",
   "execution_count": null,
   "id": "2b18230a",
   "metadata": {},
   "outputs": [],
   "source": [
    "# Try indexing into a set\n",
    "print(base_set[1])"
   ]
  },
  {
   "cell_type": "markdown",
   "id": "37af4368",
   "metadata": {},
   "source": [
    "### Dictionaries ###"
   ]
  },
  {
   "cell_type": "markdown",
   "id": "802e7952",
   "metadata": {},
   "source": [
    "Dictionaries are also collections, but they're somewhat more complex structures. A *dictionary* is a *mapping* from *keys* to *values*. We have two ways of creating a dictionary:"
   ]
  },
  {
   "cell_type": "code",
   "execution_count": null,
   "id": "00107b76",
   "metadata": {},
   "outputs": [],
   "source": [
    "this_dict = dict(key1=1, key2=\"fish\")\n",
    "that_dict = {\"key2\": \"value2\", \"key1\": \"value1\"}\n",
    "print(this_dict)\n",
    "print(that_dict)"
   ]
  },
  {
   "cell_type": "markdown",
   "id": "71a9fd80",
   "metadata": {},
   "source": [
    "It is important to note that as of Python 3.6 all dictionaries are *insertion ordered*. In other words, if you're using a version 3.6 or higher of Python, then any dictionary you create will \"remember\" the order that elements were added to it."
   ]
  },
  {
   "cell_type": "markdown",
   "id": "78ae5090",
   "metadata": {},
   "source": [
    "Similar to sets, dictionaries are *hashed* collections. Unlike sets, however, we can *subscript* dictionaries. Here are some examples:"
   ]
  },
  {
   "cell_type": "code",
   "execution_count": null,
   "id": "b3c2dc0c",
   "metadata": {},
   "outputs": [],
   "source": [
    "example_dict = dict(alpha=\"value1\", gamma=\"value3\", beta=\"value2\")\n",
    "value2 = example_dict['beta']  # Retrieve the value associated with the key 'beta'\n",
    "example_dict['beta'] = 0.9999  # Update the value associated with the key 'beta'\n",
    "print(\"The value associated with key 'beta' is: \", value2)\n",
    "print(\"The updated dictionary is: \", example_dict)"
   ]
  },
  {
   "cell_type": "markdown",
   "id": "883a3789",
   "metadata": {},
   "source": [
    "## Conditionals ##"
   ]
  },
  {
   "cell_type": "markdown",
   "id": "30d20c13",
   "metadata": {},
   "source": [
    "So far we've gone over the core objects used in Python programs, but this doesn't give us much computational power&mdash;we've learned the core ingredients we'll be using, but we haven't learned many of the things we can do with those ingredients. Often times we'll want our code to do different things based on the input it's provided, and we can do this through the use of *conditionals*. Here are some examples:"
   ]
  },
  {
   "cell_type": "markdown",
   "id": "208c176a",
   "metadata": {},
   "source": [
    "Let's write something that tells us whether a number is even or odd. We'll be using two new operators: the *modulus* operator, `%`, and the *equivalence* operator, `==`. For those who are unfamiliar, the modulus operation `a % b` divides `a` by `b` and returns the remainder."
   ]
  },
  {
   "cell_type": "code",
   "execution_count": null,
   "id": "02afd526",
   "metadata": {},
   "outputs": [],
   "source": [
    "x = 13\n",
    "if x % 2 == 0:\n",
    "    print(\"x is even\")\n",
    "else:\n",
    "    print(\"x is odd\")"
   ]
  },
  {
   "cell_type": "markdown",
   "id": "9c8b2e67",
   "metadata": {},
   "source": [
    "We can account for multiple cases by using the `elif` clause, like so:"
   ]
  },
  {
   "cell_type": "code",
   "execution_count": null,
   "id": "283a3d30",
   "metadata": {},
   "outputs": [],
   "source": [
    "x = 9\n",
    "if x % 2 == 0:\n",
    "    print(\"x is even\")\n",
    "elif x % 3 == 0:\n",
    "    print(\"x is odd and divisible by 3\")\n",
    "else:\n",
    "    print(\"x is odd and not divisible by 3\")"
   ]
  },
  {
   "cell_type": "markdown",
   "id": "cdb35d24",
   "metadata": {},
   "source": [
    "## Loops ##"
   ]
  },
  {
   "cell_type": "markdown",
   "id": "efcf395c",
   "metadata": {},
   "source": [
    "Another cornerstone of programming is the notion of *looping*. This is where the program repeatedly executes a block of code according to a set of rules we prescribe. There are two types of loops used in Python: *while* loops and *for* loops. A *while* loop iterates repeatedly until a certain condition is met; a *for* loop iterates over a collection. Here are some examples:"
   ]
  },
  {
   "cell_type": "code",
   "execution_count": null,
   "id": "fe2d4981",
   "metadata": {},
   "outputs": [],
   "source": [
    "counter = 0\n",
    "while counter < 5:  # As long as counter is less than 5, keep executing the code below\n",
    "    print(counter)  # Print where we're at\n",
    "    counter += 1  # Increase the counter by one"
   ]
  },
  {
   "cell_type": "code",
   "execution_count": null,
   "id": "08330e6d",
   "metadata": {},
   "outputs": [],
   "source": [
    "# Let's write a for loop that effectively does the same thing as the previous cell\n",
    "for counter in range(5):\n",
    "    print(counter)"
   ]
  },
  {
   "cell_type": "markdown",
   "id": "8b730d1d",
   "metadata": {},
   "source": [
    "You may have noticed that the contents of the code inside the loop (as well as inside the conditional blocks in the previous section) is indented relative to where the loop is initiated. This is an essential feature of Python: if the indentation is inconsistent (or absent), then Python doesn't know what to do:"
   ]
  },
  {
   "cell_type": "code",
   "execution_count": null,
   "id": "ce31b131",
   "metadata": {},
   "outputs": [],
   "source": [
    "for x in range(5):\n",
    "  y = 15\n",
    "    print(x)"
   ]
  },
  {
   "cell_type": "markdown",
   "id": "951b3d59",
   "metadata": {},
   "source": [
    "We can create more complex structures by combining conditionals and loops:"
   ]
  },
  {
   "cell_type": "code",
   "execution_count": null,
   "id": "0f73db86",
   "metadata": {},
   "outputs": [],
   "source": [
    "for x in range(1,5):  # Loop over numbers from 1 through 4\n",
    "    if x % 2 == 0:\n",
    "        print(x, \"is even\")\n",
    "    else:\n",
    "        print(x, \"is odd\")"
   ]
  },
  {
   "cell_type": "markdown",
   "id": "3e5deeb6",
   "metadata": {},
   "source": [
    "We can exit out of a loop using `break`:"
   ]
  },
  {
   "cell_type": "code",
   "execution_count": null,
   "id": "e9729de3",
   "metadata": {},
   "outputs": [],
   "source": [
    "count = 0\n",
    "while True:  # Loop forever\n",
    "    if count > 3:\n",
    "        break\n",
    "    count += 1\n",
    "print(\"We made it out!\")"
   ]
  },
  {
   "cell_type": "markdown",
   "id": "c58131ca",
   "metadata": {},
   "source": [
    "We can loop over items in a dictionary:"
   ]
  },
  {
   "cell_type": "code",
   "execution_count": null,
   "id": "0a86617c",
   "metadata": {},
   "outputs": [],
   "source": [
    "test_dict = dict(a=1, b=2, c=3)\n",
    "for key, value in test_dict.items():\n",
    "    print(key, value)"
   ]
  },
  {
   "cell_type": "markdown",
   "id": "038d2f6e",
   "metadata": {},
   "source": [
    "# End \"Introductory\" Section #"
   ]
  },
  {
   "cell_type": "markdown",
   "id": "8cc035b7",
   "metadata": {},
   "source": [
    "So far we've covered the basic objects used in Python programs and some of the simple ways we can use those objects to create complex behavior. In the following sections, we'll cover some of the more advanced&mdash;but still fundamental&mdash;things we can do with Python."
   ]
  },
  {
   "cell_type": "markdown",
   "id": "876aaeef",
   "metadata": {},
   "source": [
    "## Functions ##"
   ]
  },
  {
   "cell_type": "markdown",
   "id": "0acee839",
   "metadata": {},
   "source": [
    "If you ever find yourself copying code from one place and pasting it in another, then you should consider encapsulating that code inside a *function*. A *function* is essentially a set of rules that (optionally) takes input, does something given that input, and (also optionally) returns something.  \n",
    "  \n",
    "The syntax for defining a function is as follows:  \n",
    "  \n",
    "```\n",
    "def function_name(*args, **kwargs):\n",
    "    \"\"\"Docstring explaining what the function does.\n",
    "    \n",
    "    Can be split over multiple lines.\n",
    "    \"\"\"\n",
    "    code_for_doing_stuff\n",
    "    return something\n",
    "```\n",
    "  \n",
    "`*args` represents arbitrarily many *arguments* that are required for the function to work, while `**kwargs` represents arbitrarily many *keyword arguments* which are optional. Let's work through some examples."
   ]
  },
  {
   "cell_type": "code",
   "execution_count": null,
   "id": "6b7c2dff",
   "metadata": {},
   "outputs": [],
   "source": [
    "# First, let's define a function that takes no arguments and just prints something\n",
    "def test_function():\n",
    "    print(\"This is my simple function.\")"
   ]
  },
  {
   "cell_type": "code",
   "execution_count": null,
   "id": "0733a236",
   "metadata": {},
   "outputs": [],
   "source": [
    "# We can now use the function, like so\n",
    "test_function()"
   ]
  },
  {
   "cell_type": "code",
   "execution_count": null,
   "id": "205f7bf6",
   "metadata": {},
   "outputs": [],
   "source": [
    "# Now let's write a function that takes the square of the input number\n",
    "def square(num):\n",
    "    return num ** 2"
   ]
  },
  {
   "cell_type": "code",
   "execution_count": null,
   "id": "e1c6e067",
   "metadata": {},
   "outputs": [],
   "source": [
    "x = square(3)\n",
    "print(x)"
   ]
  },
  {
   "cell_type": "code",
   "execution_count": null,
   "id": "93cf9c2e",
   "metadata": {},
   "outputs": [],
   "source": [
    "# Now let's write a function that converts the input to a different type \n",
    "def convert(value, new_type=str):\n",
    "    if new_type not in (int, float, complex, bool, str):\n",
    "        print(\"New type not understood! Returning input as-is.\")\n",
    "        new_value = value\n",
    "    else:\n",
    "        new_value = new_type(value)\n",
    "    return new_value"
   ]
  },
  {
   "cell_type": "code",
   "execution_count": null,
   "id": "b9cedef3",
   "metadata": {},
   "outputs": [],
   "source": [
    "# Now let's test it out\n",
    "string_num = \"5.234+2.11j\"\n",
    "complex_num = convert(string_num, new_type=complex)\n",
    "print(complex_num)"
   ]
  },
  {
   "cell_type": "code",
   "execution_count": null,
   "id": "bbc57c18",
   "metadata": {},
   "outputs": [],
   "source": [
    "# Now let's do something dangerous...\n",
    "def accumulate(new_value, cache=[]):\n",
    "    cache.append(new_value)\n",
    "    print(cache)"
   ]
  },
  {
   "cell_type": "code",
   "execution_count": null,
   "id": "546f7eb0",
   "metadata": {},
   "outputs": [],
   "source": [
    "for i in range(5):\n",
    "    accumulate(i)"
   ]
  },
  {
   "cell_type": "markdown",
   "id": "98cb96fb",
   "metadata": {},
   "source": [
    "<details>\n",
    "    <summary><b>What happened?</b></summary>\n",
    "    Default values in functions are created when the function is defined. So, if we use a mutable object as the default value for a function argument, and then change that object in the function body, the default object will change each time the function is called! This isn't something you'd usually have to worry about, but it's important to keep in mind. (Sometimes it can even be exploited and is especially useful for implementing a <i>cache</i>.)\n",
    "</details>"
   ]
  },
  {
   "cell_type": "markdown",
   "id": "2dc84910",
   "metadata": {},
   "source": [
    "Now an exercise for the reader! Write a function that evaluates a polynomial at a user-provided `x` and optional coefficients `coeffs` in increasing order (i.e. `coeffs[0]` is the constant term), and returns the result. Test that it works for some simple cases you can do by hand."
   ]
  },
  {
   "cell_type": "markdown",
   "id": "75ca37b5",
   "metadata": {},
   "source": [
    "<details>\n",
    "    <summary><b>Solution</b></summary>\n",
    "    Here's one possible solution:<br>\n",
    "<code>def polynomial(x, coeffs=[]):\n",
    "    result = 0\n",
    "    for n, coeff in enumerate(coeffs):\n",
    "        result += coeff * x**n\n",
    "    return result</code>\n",
    "</details>"
   ]
  },
  {
   "cell_type": "markdown",
   "id": "c6b75f01",
   "metadata": {},
   "source": [
    "## Classes ##"
   ]
  },
  {
   "cell_type": "markdown",
   "id": "9d3b33e2",
   "metadata": {},
   "source": [
    "There are often cases where we repeatedly work with a particular set of data products and have a common set of things we would like to do with those data products. In these cases, writing programs can quickly become clunky even with the use of functions. Cases like this are where you should consider writing a *class*. A *class* is an object that has both *attributes* and *methods* associated with it. You can think of *attributes* as the various data products associated with the *class*, and *methods* are like functions that come with the *class*. Here's the basic syntax for writing a class:  \n",
    "  \n",
    "```\n",
    "class ClassName:\n",
    "    \"\"\"Write a basic description of the class here.\"\"\"\n",
    "    def __init__(self, *init_args, **init_kwargs):\n",
    "        \"\"\"Explain the different things you need to make an instance of this class.\n",
    "        \n",
    "        You should also explain different attributes of the class here.\n",
    "        \"\"\"\n",
    "        do_stuff_to_create_a_class_instance\n",
    "    \n",
    "    def method(self, *method_args, **method_kwargs):\n",
    "        \"\"\"Describe what this method does.\"\"\"\n",
    "        do_something\n",
    "```  \n",
    "  \n",
    "You might notice some strange-looking syntax in the above example. In particular, you'll see that each of the methods (`__init__` and `method`) has `self` as the first argument. The `self` argument gives the class a way to reference an instance of itself from within that method. There are plenty of other ways to add complexity, but we won't worry about that for now. Let's make this all a bit more concrete with an example."
   ]
  },
  {
   "cell_type": "code",
   "execution_count": null,
   "id": "b15f6477",
   "metadata": {},
   "outputs": [],
   "source": [
    "class Dog:\n",
    "    \"\"\"Create a virtual friend with this class!\"\"\"\n",
    "    def __init__(self, name, age, bark_mode=\"Arf!\"):\n",
    "        \"\"\"This routine gives a recipe for making an instance of a dog.\"\"\"\n",
    "        self.name = name\n",
    "        self.age = age\n",
    "        self.bark_mode = bark_mode\n",
    "        \n",
    "    def __repr__(self):\n",
    "        \"\"\"This magic method tells how to get a string representation of an instance.\"\"\"\n",
    "        return self.name\n",
    "        \n",
    "    def bark(self):\n",
    "        \"\"\"Make the dog bark!\"\"\"\n",
    "        print(self.bark_mode)"
   ]
  },
  {
   "cell_type": "code",
   "execution_count": null,
   "id": "7bd6c0ee",
   "metadata": {},
   "outputs": [],
   "source": [
    "this_dog = Dog(\"Alfie\", 4, \"WOOF\")  # This makes an instance of the Dog"
   ]
  },
  {
   "cell_type": "code",
   "execution_count": null,
   "id": "1e1a31a3",
   "metadata": {},
   "outputs": [],
   "source": [
    "this_dog.bark()  # Let's see how it barks!"
   ]
  },
  {
   "cell_type": "code",
   "execution_count": null,
   "id": "9a8d05ea",
   "metadata": {},
   "outputs": [],
   "source": [
    "print(this_dog)  # Let's see what it's called"
   ]
  },
  {
   "cell_type": "code",
   "execution_count": null,
   "id": "f6d62209",
   "metadata": {},
   "outputs": [],
   "source": [
    "print(type(this_dog))"
   ]
  },
  {
   "cell_type": "markdown",
   "id": "7e931633",
   "metadata": {},
   "source": [
    "Now an exercise for the reader! Create a class called `Complex` that requires the user to specify a `real` and `imag` value. Overload the `__add__` and `__mul__` to do addition and multiplication with other `Complex` objects. Update the `__repr__` magic method so that the string representation looks just like it does for the builtin `complex` class. Test your solution with some simple cases you can do on paper, and also test it against the same thing using builtin `complex` types."
   ]
  },
  {
   "cell_type": "markdown",
   "id": "90afc8a0",
   "metadata": {},
   "source": [
    "<details>\n",
    "    <summary><b>Solution</b></summary>\n",
    "<code>class Complex:\n",
    "    def __init__(self, real, imag):\n",
    "        self.real = real\n",
    "        self.imag = imag\n",
    "        \n",
    "    def __repr__(self):\n",
    "        if self.imag >= 0:\n",
    "            sign = \"+\"\n",
    "        else:\n",
    "            sign = \"-\"\n",
    "        return f\"({self.real}{sign}{abs(self.imag)}j)\"\n",
    "    \n",
    "    def __add__(self, other):\n",
    "        real = self.real + other.real\n",
    "        imag = self.imag + other.imag\n",
    "        return Complex(real, imag)\n",
    "    \n",
    "    def __mul__(self, other):\n",
    "        real = self.real*other.real - self.imag*other.imag\n",
    "        imag = self.real*other.imag + self.imag*other.real\n",
    "        return Complex(real, imag)</code>\n",
    "</details>"
   ]
  },
  {
   "cell_type": "markdown",
   "id": "ed4630ec",
   "metadata": {},
   "source": [
    "## Libraries ##"
   ]
  },
  {
   "cell_type": "code",
   "execution_count": null,
   "id": "d9edec5f",
   "metadata": {},
   "outputs": [],
   "source": []
  },
  {
   "cell_type": "code",
   "execution_count": null,
   "id": "6dd8f005",
   "metadata": {},
   "outputs": [],
   "source": []
  },
  {
   "cell_type": "code",
   "execution_count": null,
   "id": "a37f3904",
   "metadata": {},
   "outputs": [],
   "source": []
  },
  {
   "cell_type": "code",
   "execution_count": null,
   "id": "c608ddbe",
   "metadata": {},
   "outputs": [],
   "source": []
  },
  {
   "cell_type": "markdown",
   "id": "d0190dc9",
   "metadata": {},
   "source": [
    "## Scope ##"
   ]
  },
  {
   "cell_type": "code",
   "execution_count": null,
   "id": "6f692bf1",
   "metadata": {},
   "outputs": [],
   "source": []
  },
  {
   "cell_type": "code",
   "execution_count": null,
   "id": "f69e1c69",
   "metadata": {},
   "outputs": [],
   "source": []
  },
  {
   "cell_type": "code",
   "execution_count": null,
   "id": "d10a0d0e",
   "metadata": {},
   "outputs": [],
   "source": []
  },
  {
   "cell_type": "code",
   "execution_count": null,
   "id": "556d6ad5",
   "metadata": {},
   "outputs": [],
   "source": []
  },
  {
   "cell_type": "markdown",
   "id": "edd97bd1",
   "metadata": {},
   "source": [
    "## Scripts ##"
   ]
  },
  {
   "cell_type": "code",
   "execution_count": null,
   "id": "2949b242",
   "metadata": {},
   "outputs": [],
   "source": []
  },
  {
   "cell_type": "code",
   "execution_count": null,
   "id": "052a3a12",
   "metadata": {},
   "outputs": [],
   "source": []
  },
  {
   "cell_type": "code",
   "execution_count": null,
   "id": "9472d6d4",
   "metadata": {},
   "outputs": [],
   "source": []
  },
  {
   "cell_type": "code",
   "execution_count": null,
   "id": "c7437108",
   "metadata": {},
   "outputs": [],
   "source": []
  },
  {
   "cell_type": "markdown",
   "id": "a6c30bca",
   "metadata": {},
   "source": [
    "## Miscellaneous Tricks ##"
   ]
  },
  {
   "cell_type": "code",
   "execution_count": null,
   "id": "a9fc6bdc",
   "metadata": {},
   "outputs": [],
   "source": []
  },
  {
   "cell_type": "code",
   "execution_count": null,
   "id": "03b01b3d",
   "metadata": {},
   "outputs": [],
   "source": []
  },
  {
   "cell_type": "code",
   "execution_count": null,
   "id": "febb3e24",
   "metadata": {},
   "outputs": [],
   "source": []
  },
  {
   "cell_type": "code",
   "execution_count": null,
   "id": "cc3307ed",
   "metadata": {},
   "outputs": [],
   "source": []
  }
 ],
 "metadata": {
  "kernelspec": {
   "display_name": "Python 3 (ipykernel)",
   "language": "python",
   "name": "python3"
  },
  "language_info": {
   "codemirror_mode": {
    "name": "ipython",
    "version": 3
   },
   "file_extension": ".py",
   "mimetype": "text/x-python",
   "name": "python",
   "nbconvert_exporter": "python",
   "pygments_lexer": "ipython3",
   "version": "3.9.7"
  }
 },
 "nbformat": 4,
 "nbformat_minor": 5
}
